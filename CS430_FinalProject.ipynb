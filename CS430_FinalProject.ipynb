{
  "nbformat": 4,
  "nbformat_minor": 0,
  "metadata": {
    "colab": {
      "provenance": [],
      "collapsed_sections": [
        "bF9_ylt-JUqJ",
        "5b_iyJqxJXkv",
        "EOov-ciZJcWr"
      ]
    },
    "kernelspec": {
      "name": "python3",
      "display_name": "Python 3"
    },
    "language_info": {
      "name": "python"
    }
  },
  "cells": [
    {
      "cell_type": "code",
      "execution_count": 1,
      "metadata": {
        "id": "bFokCzgY7ETi"
      },
      "outputs": [],
      "source": [
        "import pandas as pd\n",
        "import numpy as np\n",
        "import tensorflow as tf\n",
        "from tensorflow import keras\n",
        "from tensorflow.keras.layers import Dense\n",
        "from tensorflow.keras import Sequential\n",
        "import matplotlib.pyplot as plt\n",
        "from sklearn.model_selection import train_test_split\n",
        "from sklearn.metrics import mean_squared_error, mean_absolute_error\n",
        "from sklearn.metrics import accuracy_score\n",
        "from sklearn.metrics import classification_report, confusion_matrix\n",
        "from prettytable import PrettyTable"
      ]
    },
    {
      "cell_type": "code",
      "source": [
        "print(pd.__version__)\n",
        "print(np.__version__)\n",
        "print(tf.__version__)"
      ],
      "metadata": {
        "colab": {
          "base_uri": "https://localhost:8080/"
        },
        "id": "P8CQYpfHjqvM",
        "outputId": "c2015b0c-29b1-40b1-9dda-0f0313ffd2dc"
      },
      "execution_count": null,
      "outputs": [
        {
          "output_type": "stream",
          "name": "stdout",
          "text": [
            "1.3.5\n",
            "1.21.6\n",
            "2.9.2\n"
          ]
        }
      ]
    },
    {
      "cell_type": "code",
      "source": [
        "rice = pd.read_csv(\"/content/drive/MyDrive/Colab Notebooks/FinalProject_CS430/riceClassification.csv\")"
      ],
      "metadata": {
        "id": "LEw3eNxh-LTQ"
      },
      "execution_count": 2,
      "outputs": []
    },
    {
      "cell_type": "code",
      "source": [
        "rice.info()"
      ],
      "metadata": {
        "colab": {
          "base_uri": "https://localhost:8080/"
        },
        "id": "_7eq-r5u-Yzf",
        "outputId": "fd54a8b1-08b7-40aa-abc6-71b1ee297cce"
      },
      "execution_count": 3,
      "outputs": [
        {
          "output_type": "stream",
          "name": "stdout",
          "text": [
            "<class 'pandas.core.frame.DataFrame'>\n",
            "RangeIndex: 18185 entries, 0 to 18184\n",
            "Data columns (total 12 columns):\n",
            " #   Column           Non-Null Count  Dtype  \n",
            "---  ------           --------------  -----  \n",
            " 0   id               18185 non-null  int64  \n",
            " 1   Area             18185 non-null  int64  \n",
            " 2   MajorAxisLength  18185 non-null  float64\n",
            " 3   MinorAxisLength  18185 non-null  float64\n",
            " 4   Eccentricity     18185 non-null  float64\n",
            " 5   ConvexArea       18185 non-null  int64  \n",
            " 6   EquivDiameter    18185 non-null  float64\n",
            " 7   Extent           18185 non-null  float64\n",
            " 8   Perimeter        18185 non-null  float64\n",
            " 9   Roundness        18185 non-null  float64\n",
            " 10  AspectRation     18185 non-null  float64\n",
            " 11  Class            18185 non-null  int64  \n",
            "dtypes: float64(8), int64(4)\n",
            "memory usage: 1.7 MB\n"
          ]
        }
      ]
    },
    {
      "cell_type": "code",
      "source": [
        "X = rice.drop(\"Class\", axis = 1)"
      ],
      "metadata": {
        "id": "6kT2GVSa-arP"
      },
      "execution_count": 4,
      "outputs": []
    },
    {
      "cell_type": "code",
      "source": [
        "y = rice.Class"
      ],
      "metadata": {
        "id": "d8vuS_gH-xGF"
      },
      "execution_count": 5,
      "outputs": []
    },
    {
      "cell_type": "code",
      "source": [
        "X_train, X_test, y_train, y_test = train_test_split(X,y, \n",
        "                                                    test_size=0.2, \n",
        "                                                    random_state=0)"
      ],
      "metadata": {
        "id": "Z6bg6P0CA6Dl"
      },
      "execution_count": 6,
      "outputs": []
    },
    {
      "cell_type": "code",
      "source": [
        "rice.isnull().sum()"
      ],
      "metadata": {
        "colab": {
          "base_uri": "https://localhost:8080/"
        },
        "id": "Y08663rO_fPU",
        "outputId": "a12ff485-ec5a-4d53-f436-060bea5ba2a8"
      },
      "execution_count": null,
      "outputs": [
        {
          "output_type": "execute_result",
          "data": {
            "text/plain": [
              "id                 0\n",
              "Area               0\n",
              "MajorAxisLength    0\n",
              "MinorAxisLength    0\n",
              "Eccentricity       0\n",
              "ConvexArea         0\n",
              "EquivDiameter      0\n",
              "Extent             0\n",
              "Perimeter          0\n",
              "Roundness          0\n",
              "AspectRation       0\n",
              "Class              0\n",
              "dtype: int64"
            ]
          },
          "metadata": {},
          "execution_count": 17
        }
      ]
    },
    {
      "cell_type": "code",
      "source": [
        "count0 = (rice.Class == 0).sum()\n",
        "count1 = (rice.Class == 1).sum()\n",
        "print(count0, count1)"
      ],
      "metadata": {
        "colab": {
          "base_uri": "https://localhost:8080/"
        },
        "id": "Vu3Aty_S_rx8",
        "outputId": "429f3c04-cb82-4d47-a45f-4150f055b4b4"
      },
      "execution_count": null,
      "outputs": [
        {
          "output_type": "stream",
          "name": "stdout",
          "text": [
            "8200 9985\n"
          ]
        }
      ]
    },
    {
      "cell_type": "markdown",
      "source": [
        "##Correlation Matrix"
      ],
      "metadata": {
        "id": "lEA1m34puqbo"
      }
    },
    {
      "cell_type": "code",
      "source": [
        "corr_matrix = rice.corr()\n",
        "print(corr_matrix)"
      ],
      "metadata": {
        "colab": {
          "base_uri": "https://localhost:8080/"
        },
        "id": "E4RiqYxnupwZ",
        "outputId": "e03a1791-62e6-4873-92ac-7583759b575d"
      },
      "execution_count": null,
      "outputs": [
        {
          "output_type": "stream",
          "name": "stdout",
          "text": [
            "                       id      Area  MajorAxisLength  MinorAxisLength  \\\n",
            "id               1.000000  0.709155         0.464022         0.637148   \n",
            "Area             0.709155  1.000000         0.599939         0.930215   \n",
            "MajorAxisLength  0.464022  0.599939         1.000000         0.273211   \n",
            "MinorAxisLength  0.637148  0.930215         0.273211         1.000000   \n",
            "Eccentricity    -0.347816 -0.550073         0.295717        -0.808640   \n",
            "ConvexArea       0.707600  0.999362         0.602061         0.928992   \n",
            "EquivDiameter    0.706333  0.998158         0.618002         0.923790   \n",
            "Extent           0.149924  0.230541        -0.073549         0.308541   \n",
            "Perimeter        0.628830  0.881540         0.870178         0.674249   \n",
            "Roundness        0.430033  0.620490        -0.202566         0.834398   \n",
            "AspectRation    -0.382648 -0.623979         0.240471        -0.860516   \n",
            "Class           -0.808591 -0.816589        -0.147741        -0.917766   \n",
            "\n",
            "                 Eccentricity  ConvexArea  EquivDiameter    Extent  Perimeter  \\\n",
            "id                  -0.347816    0.707600       0.706333  0.149924   0.628830   \n",
            "Area                -0.550073    0.999362       0.998158  0.230541   0.881540   \n",
            "MajorAxisLength      0.295717    0.602061       0.618002 -0.073549   0.870178   \n",
            "MinorAxisLength     -0.808640    0.928992       0.923790  0.308541   0.674249   \n",
            "Eccentricity         1.000000   -0.547896      -0.534688 -0.329954  -0.165915   \n",
            "ConvexArea          -0.547896    1.000000       0.997403  0.227359   0.886987   \n",
            "EquivDiameter       -0.534688    0.997403       1.000000  0.225944   0.891567   \n",
            "Extent              -0.329954    0.227359       0.225944  1.000000   0.073227   \n",
            "Perimeter           -0.165915    0.886987       0.891567  0.073227   1.000000   \n",
            "Roundness           -0.903657    0.610236       0.607432  0.366793   0.186063   \n",
            "AspectRation         0.950301   -0.621472      -0.609957 -0.350875  -0.227256   \n",
            "Class                0.788636   -0.814214      -0.809361 -0.303440  -0.533274   \n",
            "\n",
            "                 Roundness  AspectRation     Class  \n",
            "id                0.430033     -0.382648 -0.808591  \n",
            "Area              0.620490     -0.623979 -0.816589  \n",
            "MajorAxisLength  -0.202566      0.240471 -0.147741  \n",
            "MinorAxisLength   0.834398     -0.860516 -0.917766  \n",
            "Eccentricity     -0.903657      0.950301  0.788636  \n",
            "ConvexArea        0.610236     -0.621472 -0.814214  \n",
            "EquivDiameter     0.607432     -0.609957 -0.809361  \n",
            "Extent            0.366793     -0.350875 -0.303440  \n",
            "Perimeter         0.186063     -0.227256 -0.533274  \n",
            "Roundness         1.000000     -0.947875 -0.831759  \n",
            "AspectRation     -0.947875      1.000000  0.832563  \n",
            "Class            -0.831759      0.832563  1.000000  \n"
          ]
        }
      ]
    },
    {
      "cell_type": "markdown",
      "source": [
        "##Logistic Regression"
      ],
      "metadata": {
        "id": "0S-oPbytBBsr"
      }
    },
    {
      "cell_type": "code",
      "source": [
        "from sklearn.linear_model import LogisticRegression\n",
        "LR_model = LogisticRegression(solver = 'lbfgs', \n",
        "                             multi_class='multinomial', \n",
        "                             max_iter = 10000)\n",
        "LR_model.fit(X_train, y_train)\n",
        "y_pred_LR = LR_model.predict(X_test)\n",
        "LR_score = accuracy_score(y_test,y_pred_LR)"
      ],
      "metadata": {
        "id": "PekDjwmDBDN0"
      },
      "execution_count": null,
      "outputs": []
    },
    {
      "cell_type": "code",
      "source": [
        "print(LR_score)"
      ],
      "metadata": {
        "colab": {
          "base_uri": "https://localhost:8080/"
        },
        "id": "KYtCDM7SIJbE",
        "outputId": "34aca09a-3384-4f52-9d76-05bb48e960ff"
      },
      "execution_count": null,
      "outputs": [
        {
          "output_type": "stream",
          "name": "stdout",
          "text": [
            "0.9997250481165796\n"
          ]
        }
      ]
    },
    {
      "cell_type": "markdown",
      "source": [
        "##Random Forest Classification"
      ],
      "metadata": {
        "id": "IuH4R6JNBDcy"
      }
    },
    {
      "cell_type": "code",
      "source": [
        "from sklearn.ensemble import RandomForestClassifier\n",
        "RF_model = RandomForestClassifier()\n",
        "RF_model.fit(X_train, y_train)\n",
        "y_pred_RF = RF_model.predict(X_test)\n",
        "RF_score = accuracy_score(y_test, y_pred_RF)"
      ],
      "metadata": {
        "id": "DoRh8GJgBG-k"
      },
      "execution_count": null,
      "outputs": []
    },
    {
      "cell_type": "code",
      "source": [
        "print(RF_score)"
      ],
      "metadata": {
        "colab": {
          "base_uri": "https://localhost:8080/"
        },
        "id": "9ajm7vicCrqn",
        "outputId": "6ed03079-8b03-4f02-a6bc-2a59f1a1f98c"
      },
      "execution_count": null,
      "outputs": [
        {
          "output_type": "stream",
          "name": "stdout",
          "text": [
            "1.0\n"
          ]
        }
      ]
    },
    {
      "cell_type": "markdown",
      "source": [
        "##Decision Tree Classifier"
      ],
      "metadata": {
        "id": "aJpint1qBHmF"
      }
    },
    {
      "cell_type": "code",
      "source": [
        "from sklearn.tree import DecisionTreeClassifier\n",
        "clf_gini = DecisionTreeClassifier(criterion = 'gini', max_depth=3, random_state=0)\n",
        "clf_gini.fit(X_train, y_train)"
      ],
      "metadata": {
        "colab": {
          "base_uri": "https://localhost:8080/"
        },
        "id": "rXKBZIYRBJza",
        "outputId": "2b05e713-acbb-4ecc-f8a2-9ee670c76e61"
      },
      "execution_count": 7,
      "outputs": [
        {
          "output_type": "execute_result",
          "data": {
            "text/plain": [
              "DecisionTreeClassifier(max_depth=3, random_state=0)"
            ]
          },
          "metadata": {},
          "execution_count": 7
        }
      ]
    },
    {
      "cell_type": "code",
      "source": [
        "y_pred_tree = clf_gini.predict(X_test)"
      ],
      "metadata": {
        "id": "xxuckjJ26WSE"
      },
      "execution_count": 8,
      "outputs": []
    },
    {
      "cell_type": "code",
      "source": [
        "DTC_score = clf_gini.score(X_test, y_test)\n",
        "print(DTC_score)"
      ],
      "metadata": {
        "colab": {
          "base_uri": "https://localhost:8080/"
        },
        "id": "NaP3L8GzdsFo",
        "outputId": "f0beaca3-4d9c-40d0-c02d-8bcb632def64"
      },
      "execution_count": 9,
      "outputs": [
        {
          "output_type": "stream",
          "name": "stdout",
          "text": [
            "0.9997250481165796\n"
          ]
        }
      ]
    },
    {
      "cell_type": "code",
      "source": [
        "plt.figure(figsize=(12,8))\n",
        "from sklearn import tree\n",
        "tree.plot_tree(clf_gini.fit(X_train, y_train))"
      ],
      "metadata": {
        "colab": {
          "base_uri": "https://localhost:8080/",
          "height": 630
        },
        "id": "x_RYtCmBd5zw",
        "outputId": "02f8ec09-94a0-441b-e680-c97bc25fb90a"
      },
      "execution_count": null,
      "outputs": [
        {
          "output_type": "execute_result",
          "data": {
            "text/plain": [
              "[Text(0.5555555555555556, 0.875, 'X[3] <= 59.423\\ngini = 0.495\\nsamples = 14548\\nvalue = [6547, 8001]'),\n",
              " Text(0.3333333333333333, 0.625, 'X[0] <= 11823.5\\ngini = 0.036\\nsamples = 8093\\nvalue = [150, 7943]'),\n",
              " Text(0.2222222222222222, 0.375, 'X[3] <= 58.888\\ngini = 0.0\\nsamples = 7944\\nvalue = [1, 7943]'),\n",
              " Text(0.1111111111111111, 0.125, 'gini = 0.0\\nsamples = 7910\\nvalue = [0, 7910]'),\n",
              " Text(0.3333333333333333, 0.125, 'gini = 0.057\\nsamples = 34\\nvalue = [1, 33]'),\n",
              " Text(0.4444444444444444, 0.375, 'gini = 0.0\\nsamples = 149\\nvalue = [149, 0]'),\n",
              " Text(0.7777777777777778, 0.625, 'X[0] <= 2098.0\\ngini = 0.018\\nsamples = 6455\\nvalue = [6397, 58]'),\n",
              " Text(0.6666666666666666, 0.375, 'gini = 0.0\\nsamples = 58\\nvalue = [0, 58]'),\n",
              " Text(0.8888888888888888, 0.375, 'gini = 0.0\\nsamples = 6397\\nvalue = [6397, 0]')]"
            ]
          },
          "metadata": {},
          "execution_count": 24
        },
        {
          "output_type": "display_data",
          "data": {
            "text/plain": [
              "<Figure size 864x576 with 1 Axes>"
            ],
            "image/png": "[encoded data removed]"
          },
          "metadata": {
            "needs_background": "light"
          }
        }
      ]
    },
    {
      "cell_type": "markdown",
      "source": [
        "##Support Vector Classifier"
      ],
      "metadata": {
        "id": "atZljpsEBKBq"
      }
    },
    {
      "cell_type": "code",
      "source": [
        "from sklearn.svm import SVC\n",
        "svc_clf = SVC(gamma='auto', probability = True)\n",
        "svc_clf.fit(X_train, y_train)\n",
        "y_pred_svc = svc_clf.predict(X_test)\n",
        "\n",
        "SVC_score = accuracy_score(y_test, y_pred_svc)\n",
        "print(SVC_score)"
      ],
      "metadata": {
        "colab": {
          "base_uri": "https://localhost:8080/"
        },
        "id": "elaOKu4EBM-u",
        "outputId": "cabed9ab-0af5-47e5-bb50-07961215e49d"
      },
      "execution_count": null,
      "outputs": [
        {
          "output_type": "stream",
          "name": "stdout",
          "text": [
            "0.5457794885894969\n"
          ]
        }
      ]
    },
    {
      "cell_type": "markdown",
      "source": [
        "##RandomizedSearchCV"
      ],
      "metadata": {
        "id": "ueAxypnECBwA"
      }
    },
    {
      "cell_type": "code",
      "source": [
        "model_params = {\n",
        "    'Logistic Regression': {\n",
        "        'model': LogisticRegression(),\n",
        "        'params': {\n",
        "            'solver': ['lbfgs', 'liblinear', 'newton-cg', 'newton-cholesky', 'sag', 'saga'],\n",
        "            'multi_class': ['auto', 'ovr', 'multinomial'],\n",
        "            'max_iter': [100,200,500,1000]\n",
        "        }\n",
        "    },\n",
        "    'RandomForest Classifier': {\n",
        "        'model': RandomForestClassifier(),\n",
        "        'params': {\n",
        "            \n",
        "        }\n",
        "    },\n",
        "    'Decision Tree Classifier': {\n",
        "        'model': DecisionTreeClassifier(),\n",
        "        'params': {\n",
        "            'criterion': ['gini', 'entropy'],\n",
        "            'max_depth': [3,5,10,20],\n",
        "            'random_state': [0]\n",
        "        }\n",
        "    },\n",
        "    'Support Vector Classifier': {\n",
        "        'model': SVC(),\n",
        "        'params': {\n",
        "            'C': [0.1,1,10,20,100],\n",
        "            'kernel': ['rbf', 'linear', 'poly']\n",
        "        }\n",
        "    }\n",
        "}"
      ],
      "metadata": {
        "id": "M1yqt1klCEWy"
      },
      "execution_count": null,
      "outputs": []
    },
    {
      "cell_type": "code",
      "source": [
        "from sklearn.model_selection import RandomizedSearchCV\n",
        "scores = []\n",
        "for model_name, model_parameter in model_params.items():\n",
        "  clf = RandomizedSearchCV(model_parameter['model'], model_parameter['params'], \n",
        "                           cv = 6, \n",
        "                           return_train_score=False, \n",
        "                           n_iter = 20)\n",
        "  clf.fit(X_train, y_train)\n",
        "  scores.append({\n",
        "    'model': model_name,\n",
        "    'best_scores': clf.best_score_,\n",
        "    'best_params': clf.best_params_\n",
        "})"
      ],
      "metadata": {
        "colab": {
          "base_uri": "https://localhost:8080/"
        },
        "id": "ENYHOX3JHqAW",
        "outputId": "3853e670-17b5-428d-fe89-16add946e7bb"
      },
      "execution_count": null,
      "outputs": [
        {
          "output_type": "stream",
          "name": "stderr",
          "text": [
            "/usr/local/lib/python3.8/dist-packages/sklearn/linear_model/_sag.py:352: ConvergenceWarning: The max_iter was reached which means the coef_ did not converge\n",
            "  warnings.warn(\n",
            "/usr/local/lib/python3.8/dist-packages/sklearn/linear_model/_sag.py:352: ConvergenceWarning: The max_iter was reached which means the coef_ did not converge\n",
            "  warnings.warn(\n",
            "/usr/local/lib/python3.8/dist-packages/sklearn/linear_model/_sag.py:352: ConvergenceWarning: The max_iter was reached which means the coef_ did not converge\n",
            "  warnings.warn(\n",
            "/usr/local/lib/python3.8/dist-packages/sklearn/linear_model/_sag.py:352: ConvergenceWarning: The max_iter was reached which means the coef_ did not converge\n",
            "  warnings.warn(\n",
            "/usr/local/lib/python3.8/dist-packages/sklearn/linear_model/_sag.py:352: ConvergenceWarning: The max_iter was reached which means the coef_ did not converge\n",
            "  warnings.warn(\n",
            "/usr/local/lib/python3.8/dist-packages/sklearn/linear_model/_sag.py:352: ConvergenceWarning: The max_iter was reached which means the coef_ did not converge\n",
            "  warnings.warn(\n",
            "/usr/local/lib/python3.8/dist-packages/sklearn/linear_model/_sag.py:352: ConvergenceWarning: The max_iter was reached which means the coef_ did not converge\n",
            "  warnings.warn(\n",
            "/usr/local/lib/python3.8/dist-packages/sklearn/linear_model/_sag.py:352: ConvergenceWarning: The max_iter was reached which means the coef_ did not converge\n",
            "  warnings.warn(\n",
            "/usr/local/lib/python3.8/dist-packages/sklearn/linear_model/_sag.py:352: ConvergenceWarning: The max_iter was reached which means the coef_ did not converge\n",
            "  warnings.warn(\n",
            "/usr/local/lib/python3.8/dist-packages/sklearn/linear_model/_sag.py:352: ConvergenceWarning: The max_iter was reached which means the coef_ did not converge\n",
            "  warnings.warn(\n",
            "/usr/local/lib/python3.8/dist-packages/sklearn/linear_model/_sag.py:352: ConvergenceWarning: The max_iter was reached which means the coef_ did not converge\n",
            "  warnings.warn(\n",
            "/usr/local/lib/python3.8/dist-packages/sklearn/linear_model/_sag.py:352: ConvergenceWarning: The max_iter was reached which means the coef_ did not converge\n",
            "  warnings.warn(\n",
            "/usr/local/lib/python3.8/dist-packages/sklearn/linear_model/_sag.py:352: ConvergenceWarning: The max_iter was reached which means the coef_ did not converge\n",
            "  warnings.warn(\n",
            "/usr/local/lib/python3.8/dist-packages/sklearn/linear_model/_sag.py:352: ConvergenceWarning: The max_iter was reached which means the coef_ did not converge\n",
            "  warnings.warn(\n",
            "/usr/local/lib/python3.8/dist-packages/sklearn/linear_model/_sag.py:352: ConvergenceWarning: The max_iter was reached which means the coef_ did not converge\n",
            "  warnings.warn(\n",
            "/usr/local/lib/python3.8/dist-packages/sklearn/linear_model/_sag.py:352: ConvergenceWarning: The max_iter was reached which means the coef_ did not converge\n",
            "  warnings.warn(\n",
            "/usr/local/lib/python3.8/dist-packages/sklearn/linear_model/_sag.py:352: ConvergenceWarning: The max_iter was reached which means the coef_ did not converge\n",
            "  warnings.warn(\n",
            "/usr/local/lib/python3.8/dist-packages/sklearn/linear_model/_sag.py:352: ConvergenceWarning: The max_iter was reached which means the coef_ did not converge\n",
            "  warnings.warn(\n",
            "/usr/local/lib/python3.8/dist-packages/sklearn/utils/optimize.py:210: ConvergenceWarning: newton-cg failed to converge. Increase the number of iterations.\n",
            "  warnings.warn(\n",
            "/usr/local/lib/python3.8/dist-packages/sklearn/linear_model/_sag.py:352: ConvergenceWarning: The max_iter was reached which means the coef_ did not converge\n",
            "  warnings.warn(\n",
            "/usr/local/lib/python3.8/dist-packages/sklearn/linear_model/_sag.py:352: ConvergenceWarning: The max_iter was reached which means the coef_ did not converge\n",
            "  warnings.warn(\n",
            "/usr/local/lib/python3.8/dist-packages/sklearn/linear_model/_sag.py:352: ConvergenceWarning: The max_iter was reached which means the coef_ did not converge\n",
            "  warnings.warn(\n",
            "/usr/local/lib/python3.8/dist-packages/sklearn/linear_model/_sag.py:352: ConvergenceWarning: The max_iter was reached which means the coef_ did not converge\n",
            "  warnings.warn(\n",
            "/usr/local/lib/python3.8/dist-packages/sklearn/linear_model/_sag.py:352: ConvergenceWarning: The max_iter was reached which means the coef_ did not converge\n",
            "  warnings.warn(\n",
            "/usr/local/lib/python3.8/dist-packages/sklearn/linear_model/_sag.py:352: ConvergenceWarning: The max_iter was reached which means the coef_ did not converge\n",
            "  warnings.warn(\n",
            "/usr/local/lib/python3.8/dist-packages/sklearn/linear_model/_sag.py:352: ConvergenceWarning: The max_iter was reached which means the coef_ did not converge\n",
            "  warnings.warn(\n",
            "/usr/local/lib/python3.8/dist-packages/sklearn/linear_model/_sag.py:352: ConvergenceWarning: The max_iter was reached which means the coef_ did not converge\n",
            "  warnings.warn(\n",
            "/usr/local/lib/python3.8/dist-packages/sklearn/linear_model/_sag.py:352: ConvergenceWarning: The max_iter was reached which means the coef_ did not converge\n",
            "  warnings.warn(\n",
            "/usr/local/lib/python3.8/dist-packages/sklearn/linear_model/_sag.py:352: ConvergenceWarning: The max_iter was reached which means the coef_ did not converge\n",
            "  warnings.warn(\n",
            "/usr/local/lib/python3.8/dist-packages/sklearn/linear_model/_sag.py:352: ConvergenceWarning: The max_iter was reached which means the coef_ did not converge\n",
            "  warnings.warn(\n",
            "/usr/local/lib/python3.8/dist-packages/sklearn/linear_model/_sag.py:352: ConvergenceWarning: The max_iter was reached which means the coef_ did not converge\n",
            "  warnings.warn(\n",
            "/usr/local/lib/python3.8/dist-packages/sklearn/utils/optimize.py:210: ConvergenceWarning: newton-cg failed to converge. Increase the number of iterations.\n",
            "  warnings.warn(\n",
            "/usr/local/lib/python3.8/dist-packages/sklearn/utils/optimize.py:210: ConvergenceWarning: newton-cg failed to converge. Increase the number of iterations.\n",
            "  warnings.warn(\n",
            "/usr/local/lib/python3.8/dist-packages/sklearn/utils/optimize.py:210: ConvergenceWarning: newton-cg failed to converge. Increase the number of iterations.\n",
            "  warnings.warn(\n",
            "/usr/local/lib/python3.8/dist-packages/sklearn/linear_model/_logistic.py:814: ConvergenceWarning: lbfgs failed to converge (status=1):\n",
            "STOP: TOTAL NO. of ITERATIONS REACHED LIMIT.\n",
            "\n",
            "Increase the number of iterations (max_iter) or scale the data as shown in:\n",
            "    https://scikit-learn.org/stable/modules/preprocessing.html\n",
            "Please also refer to the documentation for alternative solver options:\n",
            "    https://scikit-learn.org/stable/modules/linear_model.html#logistic-regression\n",
            "  n_iter_i = _check_optimize_result(\n",
            "/usr/local/lib/python3.8/dist-packages/sklearn/linear_model/_logistic.py:814: ConvergenceWarning: lbfgs failed to converge (status=1):\n",
            "STOP: TOTAL NO. of ITERATIONS REACHED LIMIT.\n",
            "\n",
            "Increase the number of iterations (max_iter) or scale the data as shown in:\n",
            "    https://scikit-learn.org/stable/modules/preprocessing.html\n",
            "Please also refer to the documentation for alternative solver options:\n",
            "    https://scikit-learn.org/stable/modules/linear_model.html#logistic-regression\n",
            "  n_iter_i = _check_optimize_result(\n",
            "/usr/local/lib/python3.8/dist-packages/sklearn/linear_model/_logistic.py:814: ConvergenceWarning: lbfgs failed to converge (status=1):\n",
            "STOP: TOTAL NO. of ITERATIONS REACHED LIMIT.\n",
            "\n",
            "Increase the number of iterations (max_iter) or scale the data as shown in:\n",
            "    https://scikit-learn.org/stable/modules/preprocessing.html\n",
            "Please also refer to the documentation for alternative solver options:\n",
            "    https://scikit-learn.org/stable/modules/linear_model.html#logistic-regression\n",
            "  n_iter_i = _check_optimize_result(\n",
            "/usr/local/lib/python3.8/dist-packages/sklearn/linear_model/_logistic.py:814: ConvergenceWarning: lbfgs failed to converge (status=1):\n",
            "STOP: TOTAL NO. of ITERATIONS REACHED LIMIT.\n",
            "\n",
            "Increase the number of iterations (max_iter) or scale the data as shown in:\n",
            "    https://scikit-learn.org/stable/modules/preprocessing.html\n",
            "Please also refer to the documentation for alternative solver options:\n",
            "    https://scikit-learn.org/stable/modules/linear_model.html#logistic-regression\n",
            "  n_iter_i = _check_optimize_result(\n",
            "/usr/local/lib/python3.8/dist-packages/sklearn/linear_model/_logistic.py:814: ConvergenceWarning: lbfgs failed to converge (status=1):\n",
            "STOP: TOTAL NO. of ITERATIONS REACHED LIMIT.\n",
            "\n",
            "Increase the number of iterations (max_iter) or scale the data as shown in:\n",
            "    https://scikit-learn.org/stable/modules/preprocessing.html\n",
            "Please also refer to the documentation for alternative solver options:\n",
            "    https://scikit-learn.org/stable/modules/linear_model.html#logistic-regression\n",
            "  n_iter_i = _check_optimize_result(\n",
            "/usr/local/lib/python3.8/dist-packages/sklearn/linear_model/_logistic.py:814: ConvergenceWarning: lbfgs failed to converge (status=1):\n",
            "STOP: TOTAL NO. of ITERATIONS REACHED LIMIT.\n",
            "\n",
            "Increase the number of iterations (max_iter) or scale the data as shown in:\n",
            "    https://scikit-learn.org/stable/modules/preprocessing.html\n",
            "Please also refer to the documentation for alternative solver options:\n",
            "    https://scikit-learn.org/stable/modules/linear_model.html#logistic-regression\n",
            "  n_iter_i = _check_optimize_result(\n",
            "/usr/local/lib/python3.8/dist-packages/sklearn/linear_model/_sag.py:352: ConvergenceWarning: The max_iter was reached which means the coef_ did not converge\n",
            "  warnings.warn(\n",
            "/usr/local/lib/python3.8/dist-packages/sklearn/linear_model/_sag.py:352: ConvergenceWarning: The max_iter was reached which means the coef_ did not converge\n",
            "  warnings.warn(\n",
            "/usr/local/lib/python3.8/dist-packages/sklearn/linear_model/_sag.py:352: ConvergenceWarning: The max_iter was reached which means the coef_ did not converge\n",
            "  warnings.warn(\n",
            "/usr/local/lib/python3.8/dist-packages/sklearn/linear_model/_sag.py:352: ConvergenceWarning: The max_iter was reached which means the coef_ did not converge\n",
            "  warnings.warn(\n",
            "/usr/local/lib/python3.8/dist-packages/sklearn/linear_model/_sag.py:352: ConvergenceWarning: The max_iter was reached which means the coef_ did not converge\n",
            "  warnings.warn(\n",
            "/usr/local/lib/python3.8/dist-packages/sklearn/linear_model/_sag.py:352: ConvergenceWarning: The max_iter was reached which means the coef_ did not converge\n",
            "  warnings.warn(\n",
            "/usr/local/lib/python3.8/dist-packages/sklearn/linear_model/_sag.py:352: ConvergenceWarning: The max_iter was reached which means the coef_ did not converge\n",
            "  warnings.warn(\n",
            "/usr/local/lib/python3.8/dist-packages/sklearn/linear_model/_sag.py:352: ConvergenceWarning: The max_iter was reached which means the coef_ did not converge\n",
            "  warnings.warn(\n",
            "/usr/local/lib/python3.8/dist-packages/sklearn/linear_model/_sag.py:352: ConvergenceWarning: The max_iter was reached which means the coef_ did not converge\n",
            "  warnings.warn(\n",
            "/usr/local/lib/python3.8/dist-packages/sklearn/linear_model/_sag.py:352: ConvergenceWarning: The max_iter was reached which means the coef_ did not converge\n",
            "  warnings.warn(\n",
            "/usr/local/lib/python3.8/dist-packages/sklearn/linear_model/_sag.py:352: ConvergenceWarning: The max_iter was reached which means the coef_ did not converge\n",
            "  warnings.warn(\n",
            "/usr/local/lib/python3.8/dist-packages/sklearn/linear_model/_sag.py:352: ConvergenceWarning: The max_iter was reached which means the coef_ did not converge\n",
            "  warnings.warn(\n",
            "/usr/local/lib/python3.8/dist-packages/sklearn/model_selection/_validation.py:372: FitFailedWarning: \n",
            "42 fits failed out of a total of 120.\n",
            "The score on these train-test partitions for these parameters will be set to nan.\n",
            "If these failures are not expected, you can try to debug them by setting error_score='raise'.\n",
            "\n",
            "Below are more details about the failures:\n",
            "--------------------------------------------------------------------------------\n",
            "36 fits failed with the following error:\n",
            "Traceback (most recent call last):\n",
            "  File \"/usr/local/lib/python3.8/dist-packages/sklearn/model_selection/_validation.py\", line 680, in _fit_and_score\n",
            "    estimator.fit(X_train, y_train, **fit_params)\n",
            "  File \"/usr/local/lib/python3.8/dist-packages/sklearn/linear_model/_logistic.py\", line 1461, in fit\n",
            "    solver = _check_solver(self.solver, self.penalty, self.dual)\n",
            "  File \"/usr/local/lib/python3.8/dist-packages/sklearn/linear_model/_logistic.py\", line 434, in _check_solver\n",
            "    raise ValueError(\n",
            "ValueError: Logistic Regression supports only solvers in ['liblinear', 'newton-cg', 'lbfgs', 'sag', 'saga'], got newton-cholesky.\n",
            "\n",
            "--------------------------------------------------------------------------------\n",
            "6 fits failed with the following error:\n",
            "Traceback (most recent call last):\n",
            "  File \"/usr/local/lib/python3.8/dist-packages/sklearn/model_selection/_validation.py\", line 680, in _fit_and_score\n",
            "    estimator.fit(X_train, y_train, **fit_params)\n",
            "  File \"/usr/local/lib/python3.8/dist-packages/sklearn/linear_model/_logistic.py\", line 1519, in fit\n",
            "    multi_class = _check_multi_class(self.multi_class, solver, len(self.classes_))\n",
            "  File \"/usr/local/lib/python3.8/dist-packages/sklearn/linear_model/_logistic.py\", line 483, in _check_multi_class\n",
            "    raise ValueError(\"Solver %s does not support a multinomial backend.\" % solver)\n",
            "ValueError: Solver liblinear does not support a multinomial backend.\n",
            "\n",
            "  warnings.warn(some_fits_failed_message, FitFailedWarning)\n",
            "/usr/local/lib/python3.8/dist-packages/sklearn/model_selection/_search.py:969: UserWarning: One or more of the test scores are non-finite: [0.99690671 1.                nan        nan 0.99250766 0.99326375\n",
            " 1.                nan        nan 0.99814399 0.98508404 0.99986251\n",
            " 1.                nan 1.         1.                nan        nan\n",
            " 0.98501531 0.98941459]\n",
            "  warnings.warn(\n",
            "/usr/local/lib/python3.8/dist-packages/sklearn/model_selection/_search.py:292: UserWarning: The total space of parameters 1 is smaller than n_iter=20. Running 1 iterations. For exhaustive searches, use GridSearchCV.\n",
            "  warnings.warn(\n",
            "/usr/local/lib/python3.8/dist-packages/sklearn/model_selection/_search.py:292: UserWarning: The total space of parameters 8 is smaller than n_iter=20. Running 8 iterations. For exhaustive searches, use GridSearchCV.\n",
            "  warnings.warn(\n",
            "/usr/local/lib/python3.8/dist-packages/sklearn/model_selection/_search.py:292: UserWarning: The total space of parameters 15 is smaller than n_iter=20. Running 15 iterations. For exhaustive searches, use GridSearchCV.\n",
            "  warnings.warn(\n"
          ]
        }
      ]
    },
    {
      "cell_type": "code",
      "source": [
        "scores"
      ],
      "metadata": {
        "colab": {
          "base_uri": "https://localhost:8080/"
        },
        "id": "dvFUnpAgIviE",
        "outputId": "228277d0-e522-462f-de15-0a08f269a000"
      },
      "execution_count": null,
      "outputs": [
        {
          "output_type": "execute_result",
          "data": {
            "text/plain": [
              "[{'model': 'Logistic Regression',\n",
              "  'best_scores': 1.0,\n",
              "  'best_params': {'solver': 'newton-cg',\n",
              "   'multi_class': 'auto',\n",
              "   'max_iter': 200}},\n",
              " {'model': 'RandomForest Classifier', 'best_scores': 1.0, 'best_params': {}},\n",
              " {'model': 'Decision Tree Classifier',\n",
              "  'best_scores': 0.9998625429553264,\n",
              "  'best_params': {'random_state': 0, 'max_depth': 3, 'criterion': 'gini'}},\n",
              " {'model': 'Support Vector Classifier',\n",
              "  'best_scores': 1.0,\n",
              "  'best_params': {'kernel': 'linear', 'C': 0.1}}]"
            ]
          },
          "metadata": {},
          "execution_count": 29
        }
      ]
    },
    {
      "cell_type": "markdown",
      "source": [
        "##Artificial Neural Network"
      ],
      "metadata": {
        "id": "eGj4RzDrBNYg"
      }
    },
    {
      "cell_type": "code",
      "source": [
        "#get number of columns in training data\n",
        "n_cols = X_train.shape[1]\n",
        "\n",
        "# builds model\n",
        "model = Sequential()\n",
        "\n",
        "model.add(Dense(150, activation='relu', \n",
        "                       input_shape=(n_cols,)))\n",
        "model.add(Dense(150, activation='relu'))\n",
        "model.add(Dense(150, activation='relu'))\n",
        "model.add(Dense(150, activation='relu'))\n",
        "model.add(Dense(150, activation='relu'))\n",
        "model.add(Dense(1))\n",
        "\n",
        "model.compile(loss='mean_squared_error', optimizer='adam',\n",
        "              metrics = [\"accuracy\"])\n",
        "\n",
        "#inspect the model\n",
        "model.summary()"
      ],
      "metadata": {
        "colab": {
          "base_uri": "https://localhost:8080/"
        },
        "id": "zFztI4W4BPsr",
        "outputId": "42c3bb39-b897-4d09-f74b-bba0f2a2d91f"
      },
      "execution_count": null,
      "outputs": [
        {
          "output_type": "stream",
          "name": "stdout",
          "text": [
            "Model: \"sequential_1\"\n",
            "_________________________________________________________________\n",
            " Layer (type)                Output Shape              Param #   \n",
            "=================================================================\n",
            " dense_6 (Dense)             (None, 150)               1800      \n",
            "                                                                 \n",
            " dense_7 (Dense)             (None, 150)               22650     \n",
            "                                                                 \n",
            " dense_8 (Dense)             (None, 150)               22650     \n",
            "                                                                 \n",
            " dense_9 (Dense)             (None, 150)               22650     \n",
            "                                                                 \n",
            " dense_10 (Dense)            (None, 150)               22650     \n",
            "                                                                 \n",
            " dense_11 (Dense)            (None, 1)                 151       \n",
            "                                                                 \n",
            "=================================================================\n",
            "Total params: 92,551\n",
            "Trainable params: 92,551\n",
            "Non-trainable params: 0\n",
            "_________________________________________________________________\n"
          ]
        }
      ]
    },
    {
      "cell_type": "code",
      "source": [
        "from keras.callbacks import EarlyStopping\n",
        "#train model and perform validation test\n",
        "\n",
        "early_stop = EarlyStopping(monitor='accuracy', patience=30) # stops training when it doesn't show improvemnet.\n",
        "\n",
        "history = model.fit(X_train, y_train, epochs = 300,\n",
        "                    validation_split = 0.2, verbose = 1, callbacks = [early_stop])"
      ],
      "metadata": {
        "colab": {
          "base_uri": "https://localhost:8080/"
        },
        "id": "ym1io5IengcL",
        "outputId": "e2eb275d-f20e-4359-8253-7138f4cc7ea0"
      },
      "execution_count": null,
      "outputs": [
        {
          "output_type": "stream",
          "name": "stdout",
          "text": [
            "Epoch 1/300\n",
            "364/364 [==============================] - 3s 6ms/step - loss: 2936.4153 - accuracy: 0.4837 - val_loss: 1.3212 - val_accuracy: 0.6082\n",
            "Epoch 2/300\n",
            "364/364 [==============================] - 2s 5ms/step - loss: 1.1826 - accuracy: 0.5192 - val_loss: 0.8070 - val_accuracy: 0.4261\n",
            "Epoch 3/300\n",
            "364/364 [==============================] - 2s 5ms/step - loss: 1.3194 - accuracy: 0.5256 - val_loss: 0.7063 - val_accuracy: 0.4261\n",
            "Epoch 4/300\n",
            "364/364 [==============================] - 2s 5ms/step - loss: 1.8861 - accuracy: 0.5392 - val_loss: 0.6180 - val_accuracy: 0.4096\n",
            "Epoch 5/300\n",
            "364/364 [==============================] - 2s 4ms/step - loss: 2.5235 - accuracy: 0.5576 - val_loss: 0.8687 - val_accuracy: 0.6100\n",
            "Epoch 6/300\n",
            "364/364 [==============================] - 2s 5ms/step - loss: 2.5833 - accuracy: 0.5893 - val_loss: 9.5456 - val_accuracy: 0.5660\n",
            "Epoch 7/300\n",
            "364/364 [==============================] - 2s 5ms/step - loss: 6.5690 - accuracy: 0.5983 - val_loss: 0.6339 - val_accuracy: 0.5962\n",
            "Epoch 8/300\n",
            "364/364 [==============================] - 2s 5ms/step - loss: 3.1509 - accuracy: 0.6369 - val_loss: 28.3975 - val_accuracy: 0.5660\n",
            "Epoch 9/300\n",
            "364/364 [==============================] - 2s 5ms/step - loss: 9.7168 - accuracy: 0.6096 - val_loss: 0.8586 - val_accuracy: 0.6014\n",
            "Epoch 10/300\n",
            "364/364 [==============================] - 2s 5ms/step - loss: 0.3641 - accuracy: 0.7450 - val_loss: 0.0998 - val_accuracy: 0.8869\n",
            "Epoch 11/300\n",
            "364/364 [==============================] - 2s 5ms/step - loss: 8.0863 - accuracy: 0.6633 - val_loss: 0.3224 - val_accuracy: 0.8302\n",
            "Epoch 12/300\n",
            "364/364 [==============================] - 2s 5ms/step - loss: 0.2763 - accuracy: 0.7919 - val_loss: 0.0873 - val_accuracy: 0.9385\n",
            "Epoch 13/300\n",
            "364/364 [==============================] - 3s 7ms/step - loss: 1.4622 - accuracy: 0.7121 - val_loss: 0.2886 - val_accuracy: 0.6031\n",
            "Epoch 14/300\n",
            "364/364 [==============================] - 2s 6ms/step - loss: 1.7615 - accuracy: 0.7024 - val_loss: 2.4124 - val_accuracy: 0.7753\n",
            "Epoch 15/300\n",
            "364/364 [==============================] - 2s 5ms/step - loss: 6.0373 - accuracy: 0.6686 - val_loss: 0.2792 - val_accuracy: 0.8409\n",
            "Epoch 16/300\n",
            "364/364 [==============================] - 2s 5ms/step - loss: 0.4395 - accuracy: 0.7554 - val_loss: 0.3635 - val_accuracy: 0.6498\n",
            "Epoch 17/300\n",
            "364/364 [==============================] - 2s 5ms/step - loss: 0.1514 - accuracy: 0.8666 - val_loss: 0.0935 - val_accuracy: 0.8918\n",
            "Epoch 18/300\n",
            "364/364 [==============================] - 2s 5ms/step - loss: 0.8670 - accuracy: 0.7303 - val_loss: 0.2715 - val_accuracy: 0.8203\n",
            "Epoch 19/300\n",
            "364/364 [==============================] - 2s 5ms/step - loss: 0.3670 - accuracy: 0.8294 - val_loss: 0.1460 - val_accuracy: 0.8443\n",
            "Epoch 20/300\n",
            "364/364 [==============================] - 2s 4ms/step - loss: 0.2284 - accuracy: 0.8308 - val_loss: 0.5650 - val_accuracy: 0.8179\n",
            "Epoch 21/300\n",
            "364/364 [==============================] - 2s 7ms/step - loss: 0.4512 - accuracy: 0.7784 - val_loss: 0.0936 - val_accuracy: 0.9089\n",
            "Epoch 22/300\n",
            "364/364 [==============================] - 2s 5ms/step - loss: 0.5491 - accuracy: 0.8333 - val_loss: 0.1731 - val_accuracy: 0.8646\n",
            "Epoch 23/300\n",
            "364/364 [==============================] - 2s 5ms/step - loss: 0.1998 - accuracy: 0.8454 - val_loss: 0.1725 - val_accuracy: 0.7000\n",
            "Epoch 24/300\n",
            "364/364 [==============================] - 2s 5ms/step - loss: 0.2374 - accuracy: 0.8361 - val_loss: 0.1659 - val_accuracy: 0.8100\n",
            "Epoch 25/300\n",
            "364/364 [==============================] - 2s 5ms/step - loss: 0.2103 - accuracy: 0.8657 - val_loss: 0.0495 - val_accuracy: 0.9684\n",
            "Epoch 26/300\n",
            "364/364 [==============================] - 2s 5ms/step - loss: 0.1054 - accuracy: 0.9173 - val_loss: 0.1811 - val_accuracy: 0.8969\n",
            "Epoch 27/300\n",
            "364/364 [==============================] - 2s 5ms/step - loss: 649.1998 - accuracy: 0.7704 - val_loss: 1.4370 - val_accuracy: 0.5677\n",
            "Epoch 28/300\n",
            "364/364 [==============================] - 2s 4ms/step - loss: 0.5934 - accuracy: 0.6046 - val_loss: 0.3268 - val_accuracy: 0.5515\n",
            "Epoch 29/300\n",
            "364/364 [==============================] - 2s 5ms/step - loss: 0.3593 - accuracy: 0.6500 - val_loss: 0.2581 - val_accuracy: 0.7416\n",
            "Epoch 30/300\n",
            "364/364 [==============================] - 2s 4ms/step - loss: 0.4636 - accuracy: 0.6555 - val_loss: 0.1832 - val_accuracy: 0.7704\n",
            "Epoch 31/300\n",
            "364/364 [==============================] - 2s 5ms/step - loss: 0.6072 - accuracy: 0.6579 - val_loss: 0.2320 - val_accuracy: 0.6148\n",
            "Epoch 32/300\n",
            "364/364 [==============================] - 2s 5ms/step - loss: 0.4832 - accuracy: 0.6864 - val_loss: 0.1593 - val_accuracy: 0.8062\n",
            "Epoch 33/300\n",
            "364/364 [==============================] - 2s 5ms/step - loss: 0.5110 - accuracy: 0.7119 - val_loss: 0.2602 - val_accuracy: 0.5667\n",
            "Epoch 34/300\n",
            "364/364 [==============================] - 2s 5ms/step - loss: 0.7385 - accuracy: 0.6840 - val_loss: 0.1180 - val_accuracy: 0.9021\n",
            "Epoch 35/300\n",
            "364/364 [==============================] - 2s 5ms/step - loss: 0.5796 - accuracy: 0.7195 - val_loss: 0.0860 - val_accuracy: 0.9206\n",
            "Epoch 36/300\n",
            "364/364 [==============================] - 2s 5ms/step - loss: 0.6031 - accuracy: 0.7274 - val_loss: 0.2485 - val_accuracy: 0.7591\n",
            "Epoch 37/300\n",
            "364/364 [==============================] - 2s 4ms/step - loss: 0.3926 - accuracy: 0.7726 - val_loss: 0.5178 - val_accuracy: 0.6148\n",
            "Epoch 38/300\n",
            "364/364 [==============================] - 2s 4ms/step - loss: 0.3806 - accuracy: 0.7549 - val_loss: 0.1824 - val_accuracy: 0.6292\n",
            "Epoch 39/300\n",
            "364/364 [==============================] - 2s 4ms/step - loss: 0.6197 - accuracy: 0.8495 - val_loss: 0.1572 - val_accuracy: 0.8110\n",
            "Epoch 40/300\n",
            "364/364 [==============================] - 2s 5ms/step - loss: 0.1820 - accuracy: 0.8532 - val_loss: 1.4512 - val_accuracy: 0.5660\n",
            "Epoch 41/300\n",
            "364/364 [==============================] - 2s 5ms/step - loss: 0.1889 - accuracy: 0.8401 - val_loss: 0.2886 - val_accuracy: 0.8045\n",
            "Epoch 42/300\n",
            "364/364 [==============================] - 2s 5ms/step - loss: 0.1863 - accuracy: 0.8488 - val_loss: 0.6462 - val_accuracy: 0.7505\n",
            "Epoch 43/300\n",
            "364/364 [==============================] - 2s 5ms/step - loss: 0.1531 - accuracy: 0.8692 - val_loss: 0.0281 - val_accuracy: 0.9880\n",
            "Epoch 44/300\n",
            "364/364 [==============================] - 2s 5ms/step - loss: 0.2115 - accuracy: 0.8522 - val_loss: 0.2882 - val_accuracy: 0.5732\n",
            "Epoch 45/300\n",
            "364/364 [==============================] - 2s 6ms/step - loss: 0.1863 - accuracy: 0.8651 - val_loss: 0.0923 - val_accuracy: 0.9680\n",
            "Epoch 46/300\n",
            "364/364 [==============================] - 2s 5ms/step - loss: 0.1523 - accuracy: 0.9044 - val_loss: 0.0511 - val_accuracy: 0.9966\n",
            "Epoch 47/300\n",
            "364/364 [==============================] - 2s 5ms/step - loss: 0.0617 - accuracy: 0.9588 - val_loss: 0.3705 - val_accuracy: 0.8574\n",
            "Epoch 48/300\n",
            "364/364 [==============================] - 2s 5ms/step - loss: 0.1441 - accuracy: 0.9028 - val_loss: 0.0204 - val_accuracy: 0.9911\n",
            "Epoch 49/300\n",
            "364/364 [==============================] - 2s 4ms/step - loss: 0.0764 - accuracy: 0.9437 - val_loss: 0.0860 - val_accuracy: 0.9089\n",
            "Epoch 50/300\n",
            "364/364 [==============================] - 2s 5ms/step - loss: 0.0581 - accuracy: 0.9600 - val_loss: 0.0367 - val_accuracy: 0.9918\n",
            "Epoch 51/300\n",
            "364/364 [==============================] - 2s 5ms/step - loss: 0.1097 - accuracy: 0.9313 - val_loss: 0.0367 - val_accuracy: 0.9966\n",
            "Epoch 52/300\n",
            "364/364 [==============================] - 2s 5ms/step - loss: 0.0384 - accuracy: 0.9802 - val_loss: 0.0204 - val_accuracy: 0.9962\n",
            "Epoch 53/300\n",
            "364/364 [==============================] - 2s 5ms/step - loss: 0.0604 - accuracy: 0.9551 - val_loss: 0.0297 - val_accuracy: 0.9801\n",
            "Epoch 54/300\n",
            "364/364 [==============================] - 2s 5ms/step - loss: 0.0429 - accuracy: 0.9746 - val_loss: 0.0499 - val_accuracy: 0.9986\n",
            "Epoch 55/300\n",
            "364/364 [==============================] - 2s 4ms/step - loss: 0.0397 - accuracy: 0.9796 - val_loss: 0.0526 - val_accuracy: 0.9931\n",
            "Epoch 56/300\n",
            "364/364 [==============================] - 2s 4ms/step - loss: 0.0386 - accuracy: 0.9780 - val_loss: 0.0392 - val_accuracy: 0.9708\n",
            "Epoch 57/300\n",
            "364/364 [==============================] - 2s 5ms/step - loss: 0.0246 - accuracy: 0.9887 - val_loss: 0.0428 - val_accuracy: 0.9938\n",
            "Epoch 58/300\n",
            "364/364 [==============================] - 2s 5ms/step - loss: 0.0276 - accuracy: 0.9865 - val_loss: 0.0409 - val_accuracy: 0.9914\n",
            "Epoch 59/300\n",
            "364/364 [==============================] - 2s 5ms/step - loss: 0.0714 - accuracy: 0.9487 - val_loss: 0.0194 - val_accuracy: 0.9914\n",
            "Epoch 60/300\n",
            "364/364 [==============================] - 2s 5ms/step - loss: 0.0257 - accuracy: 0.9884 - val_loss: 0.0220 - val_accuracy: 0.9979\n",
            "Epoch 61/300\n",
            "364/364 [==============================] - 2s 5ms/step - loss: 0.0212 - accuracy: 0.9909 - val_loss: 0.0196 - val_accuracy: 0.9911\n",
            "Epoch 62/300\n",
            "364/364 [==============================] - 2s 5ms/step - loss: 0.0164 - accuracy: 0.9937 - val_loss: 0.0549 - val_accuracy: 0.9814\n",
            "Epoch 63/300\n",
            "364/364 [==============================] - 2s 5ms/step - loss: 0.0147 - accuracy: 0.9950 - val_loss: 0.0062 - val_accuracy: 0.9979\n",
            "Epoch 64/300\n",
            "364/364 [==============================] - 2s 5ms/step - loss: 0.0088 - accuracy: 0.9978 - val_loss: 0.0048 - val_accuracy: 0.9993\n",
            "Epoch 65/300\n",
            "364/364 [==============================] - 2s 5ms/step - loss: 0.0068 - accuracy: 0.9994 - val_loss: 0.0047 - val_accuracy: 1.0000\n",
            "Epoch 66/300\n",
            "364/364 [==============================] - 2s 5ms/step - loss: 0.0286 - accuracy: 0.9773 - val_loss: 0.0110 - val_accuracy: 0.9986\n",
            "Epoch 67/300\n",
            "364/364 [==============================] - 2s 5ms/step - loss: 0.0082 - accuracy: 0.9974 - val_loss: 0.0033 - val_accuracy: 1.0000\n",
            "Epoch 68/300\n",
            "364/364 [==============================] - 2s 5ms/step - loss: 0.0032 - accuracy: 0.9994 - val_loss: 0.0013 - val_accuracy: 1.0000\n",
            "Epoch 69/300\n",
            "364/364 [==============================] - 2s 4ms/step - loss: 0.0020 - accuracy: 0.9999 - val_loss: 6.3024e-04 - val_accuracy: 1.0000\n",
            "Epoch 70/300\n",
            "364/364 [==============================] - 2s 5ms/step - loss: 0.0029 - accuracy: 0.9996 - val_loss: 0.0011 - val_accuracy: 0.9997\n",
            "Epoch 71/300\n",
            "364/364 [==============================] - 2s 5ms/step - loss: 0.0018 - accuracy: 0.9998 - val_loss: 0.0027 - val_accuracy: 1.0000\n",
            "Epoch 72/300\n",
            "364/364 [==============================] - 2s 5ms/step - loss: 2.8748 - accuracy: 0.9195 - val_loss: 0.0724 - val_accuracy: 0.9540\n",
            "Epoch 73/300\n",
            "364/364 [==============================] - 2s 4ms/step - loss: 0.0366 - accuracy: 0.9835 - val_loss: 0.0181 - val_accuracy: 0.9969\n",
            "Epoch 74/300\n",
            "364/364 [==============================] - 2s 4ms/step - loss: 0.0204 - accuracy: 0.9936 - val_loss: 0.0107 - val_accuracy: 0.9969\n",
            "Epoch 75/300\n",
            "364/364 [==============================] - 2s 5ms/step - loss: 0.0156 - accuracy: 0.9964 - val_loss: 0.0165 - val_accuracy: 0.9990\n",
            "Epoch 76/300\n",
            "364/364 [==============================] - 2s 5ms/step - loss: 0.0132 - accuracy: 0.9977 - val_loss: 0.0127 - val_accuracy: 0.9990\n",
            "Epoch 77/300\n",
            "364/364 [==============================] - 2s 5ms/step - loss: 0.0129 - accuracy: 0.9979 - val_loss: 0.0078 - val_accuracy: 0.9983\n",
            "Epoch 78/300\n",
            "364/364 [==============================] - 2s 5ms/step - loss: 0.0142 - accuracy: 0.9985 - val_loss: 0.0092 - val_accuracy: 0.9990\n",
            "Epoch 79/300\n",
            "364/364 [==============================] - 2s 5ms/step - loss: 0.0098 - accuracy: 0.9985 - val_loss: 0.0070 - val_accuracy: 0.9986\n",
            "Epoch 80/300\n",
            "364/364 [==============================] - 2s 5ms/step - loss: 0.0081 - accuracy: 0.9992 - val_loss: 0.0051 - val_accuracy: 0.9993\n",
            "Epoch 81/300\n",
            "364/364 [==============================] - 2s 5ms/step - loss: 0.0063 - accuracy: 0.9997 - val_loss: 0.0060 - val_accuracy: 0.9993\n",
            "Epoch 82/300\n",
            "364/364 [==============================] - 2s 5ms/step - loss: 0.0053 - accuracy: 0.9997 - val_loss: 0.0092 - val_accuracy: 0.9997\n",
            "Epoch 83/300\n",
            "364/364 [==============================] - 2s 5ms/step - loss: 0.0047 - accuracy: 0.9997 - val_loss: 0.0024 - val_accuracy: 1.0000\n",
            "Epoch 84/300\n",
            "364/364 [==============================] - 2s 5ms/step - loss: 0.0039 - accuracy: 0.9997 - val_loss: 0.0044 - val_accuracy: 1.0000\n",
            "Epoch 85/300\n",
            "364/364 [==============================] - 2s 5ms/step - loss: 0.0042 - accuracy: 0.9996 - val_loss: 0.0015 - val_accuracy: 0.9997\n",
            "Epoch 86/300\n",
            "364/364 [==============================] - 2s 5ms/step - loss: 0.0077 - accuracy: 0.9979 - val_loss: 0.0085 - val_accuracy: 0.9990\n",
            "Epoch 87/300\n",
            "364/364 [==============================] - 2s 4ms/step - loss: 0.0038 - accuracy: 0.9998 - val_loss: 0.0017 - val_accuracy: 1.0000\n",
            "Epoch 88/300\n",
            "364/364 [==============================] - 2s 5ms/step - loss: 0.0028 - accuracy: 1.0000 - val_loss: 0.0188 - val_accuracy: 1.0000\n",
            "Epoch 89/300\n",
            "364/364 [==============================] - 2s 5ms/step - loss: 0.0024 - accuracy: 0.9998 - val_loss: 4.3876e-04 - val_accuracy: 1.0000\n",
            "Epoch 90/300\n",
            "364/364 [==============================] - 2s 5ms/step - loss: 7.8150e-04 - accuracy: 1.0000 - val_loss: 3.6255e-04 - val_accuracy: 1.0000\n",
            "Epoch 91/300\n",
            "364/364 [==============================] - 2s 5ms/step - loss: 0.1436 - accuracy: 0.7842 - val_loss: 0.2457 - val_accuracy: 0.5660\n",
            "Epoch 92/300\n",
            "364/364 [==============================] - 2s 5ms/step - loss: 0.2481 - accuracy: 0.5460 - val_loss: 0.2457 - val_accuracy: 0.5660\n",
            "Epoch 93/300\n",
            "364/364 [==============================] - 2s 4ms/step - loss: 0.2481 - accuracy: 0.5460 - val_loss: 0.2457 - val_accuracy: 0.5660\n",
            "Epoch 94/300\n",
            "364/364 [==============================] - 2s 5ms/step - loss: 0.2480 - accuracy: 0.5460 - val_loss: 0.2459 - val_accuracy: 0.5660\n",
            "Epoch 95/300\n",
            "364/364 [==============================] - 2s 5ms/step - loss: 0.2481 - accuracy: 0.5460 - val_loss: 0.2458 - val_accuracy: 0.5660\n",
            "Epoch 96/300\n",
            "364/364 [==============================] - 2s 5ms/step - loss: 0.2481 - accuracy: 0.5460 - val_loss: 0.2462 - val_accuracy: 0.5660\n",
            "Epoch 97/300\n",
            "364/364 [==============================] - 2s 5ms/step - loss: 0.2481 - accuracy: 0.5460 - val_loss: 0.2466 - val_accuracy: 0.5660\n",
            "Epoch 98/300\n",
            "364/364 [==============================] - 2s 5ms/step - loss: 0.2481 - accuracy: 0.5460 - val_loss: 0.2463 - val_accuracy: 0.5660\n",
            "Epoch 99/300\n",
            "364/364 [==============================] - 2s 5ms/step - loss: 0.2482 - accuracy: 0.5460 - val_loss: 0.2459 - val_accuracy: 0.5660\n",
            "Epoch 100/300\n",
            "364/364 [==============================] - 2s 5ms/step - loss: 0.2482 - accuracy: 0.5460 - val_loss: 0.2464 - val_accuracy: 0.5660\n",
            "Epoch 101/300\n",
            "364/364 [==============================] - 2s 5ms/step - loss: 0.2481 - accuracy: 0.5460 - val_loss: 0.2458 - val_accuracy: 0.5660\n",
            "Epoch 102/300\n",
            "364/364 [==============================] - 2s 5ms/step - loss: 0.2481 - accuracy: 0.5460 - val_loss: 0.2473 - val_accuracy: 0.5660\n",
            "Epoch 103/300\n",
            "364/364 [==============================] - 2s 5ms/step - loss: 0.2481 - accuracy: 0.5460 - val_loss: 0.2465 - val_accuracy: 0.5660\n",
            "Epoch 104/300\n",
            "364/364 [==============================] - 2s 5ms/step - loss: 0.2481 - accuracy: 0.5460 - val_loss: 0.2461 - val_accuracy: 0.5660\n",
            "Epoch 105/300\n",
            "364/364 [==============================] - 2s 5ms/step - loss: 0.2480 - accuracy: 0.5460 - val_loss: 0.2468 - val_accuracy: 0.5660\n",
            "Epoch 106/300\n",
            "364/364 [==============================] - 2s 5ms/step - loss: 0.2480 - accuracy: 0.5460 - val_loss: 0.2457 - val_accuracy: 0.5660\n",
            "Epoch 107/300\n",
            "364/364 [==============================] - 2s 5ms/step - loss: 0.2481 - accuracy: 0.5460 - val_loss: 0.2478 - val_accuracy: 0.5660\n",
            "Epoch 108/300\n",
            "364/364 [==============================] - 2s 5ms/step - loss: 0.2482 - accuracy: 0.5460 - val_loss: 0.2457 - val_accuracy: 0.5660\n",
            "Epoch 109/300\n",
            "364/364 [==============================] - 2s 5ms/step - loss: 0.2482 - accuracy: 0.5460 - val_loss: 0.2466 - val_accuracy: 0.5660\n",
            "Epoch 110/300\n",
            "364/364 [==============================] - 2s 5ms/step - loss: 0.2482 - accuracy: 0.5460 - val_loss: 0.2457 - val_accuracy: 0.5660\n",
            "Epoch 111/300\n",
            "364/364 [==============================] - 2s 5ms/step - loss: 0.2479 - accuracy: 0.5460 - val_loss: 0.2457 - val_accuracy: 0.5660\n",
            "Epoch 112/300\n",
            "364/364 [==============================] - 2s 5ms/step - loss: 0.2481 - accuracy: 0.5427 - val_loss: 0.2457 - val_accuracy: 0.5660\n",
            "Epoch 113/300\n",
            "364/364 [==============================] - 2s 5ms/step - loss: 0.2482 - accuracy: 0.5460 - val_loss: 0.2458 - val_accuracy: 0.5660\n",
            "Epoch 114/300\n",
            "364/364 [==============================] - 2s 5ms/step - loss: 0.2483 - accuracy: 0.5460 - val_loss: 0.2457 - val_accuracy: 0.5660\n",
            "Epoch 115/300\n",
            "364/364 [==============================] - 2s 5ms/step - loss: 0.2482 - accuracy: 0.5460 - val_loss: 0.2472 - val_accuracy: 0.5660\n",
            "Epoch 116/300\n",
            "364/364 [==============================] - 2s 5ms/step - loss: 0.2484 - accuracy: 0.5460 - val_loss: 0.2482 - val_accuracy: 0.5660\n",
            "Epoch 117/300\n",
            "364/364 [==============================] - 2s 5ms/step - loss: 0.2482 - accuracy: 0.5460 - val_loss: 0.2482 - val_accuracy: 0.5660\n",
            "Epoch 118/300\n",
            "364/364 [==============================] - 2s 5ms/step - loss: 0.2482 - accuracy: 0.5460 - val_loss: 0.2481 - val_accuracy: 0.5660\n"
          ]
        }
      ]
    },
    {
      "cell_type": "code",
      "source": [
        "pd.DataFrame(history.history).plot(figsize=(8,5))\n",
        "plt.grid(True)\n",
        "plt.gca().set_ylim(0,1) #Sets the vertical range\n",
        "plt.show()"
      ],
      "metadata": {
        "colab": {
          "base_uri": "https://localhost:8080/",
          "height": 324
        },
        "id": "3x_BXikJnq4O",
        "outputId": "f5cef886-e1ca-4354-83d7-e81c0062f8aa"
      },
      "execution_count": null,
      "outputs": [
        {
          "output_type": "display_data",
          "data": {
            "text/plain": [
              "<Figure size 576x360 with 1 Axes>"
            ],
            "image/png": "[encoded data removed]"
          },
          "metadata": {
            "needs_background": "light"
          }
        }
      ]
    },
    {
      "cell_type": "code",
      "source": [
        "ann_score = model.evaluate(X_test, y_test, verbose=1)\n",
        "print('accuracy: ', ann_score[1]) #Accuracy"
      ],
      "metadata": {
        "colab": {
          "base_uri": "https://localhost:8080/"
        },
        "id": "l_6b5vLHnuyT",
        "outputId": "68e64f9f-7a96-40fc-c048-4eecc9b2fea3"
      },
      "execution_count": null,
      "outputs": [
        {
          "output_type": "stream",
          "name": "stdout",
          "text": [
            "114/114 [==============================] - 1s 4ms/step - loss: 0.2488 - accuracy: 0.5455\n",
            "accuracy:  0.5455045104026794\n"
          ]
        }
      ]
    },
    {
      "cell_type": "markdown",
      "source": [
        "##Pretty Table"
      ],
      "metadata": {
        "id": "qQpQhbroBZ9_"
      }
    },
    {
      "cell_type": "code",
      "source": [
        "myTable = PrettyTable(['Model', 'Best Score'])\n",
        "\n",
        "myTable.add_row(['Logistic Regression', LR_score])\n",
        "myTable.add_row(['Random Forest Classifer', RF_score])\n",
        "myTable.add_row(['Decision Tree Classifier', DTC_score])\n",
        "myTable.add_row(['Support Vector Classifer', SVC_score])\n",
        "myTable.add_row(['Artifical Neural Network', ann_score[1]])\n",
        "\n",
        "print(myTable)"
      ],
      "metadata": {
        "id": "i0LqLoBhBa_T",
        "colab": {
          "base_uri": "https://localhost:8080/"
        },
        "outputId": "50ea8ddf-ea12-4af4-cacf-04016388ece6"
      },
      "execution_count": null,
      "outputs": [
        {
          "output_type": "stream",
          "name": "stdout",
          "text": [
            "+--------------------------+--------------------+\n",
            "|          Model           |     Best Score     |\n",
            "+--------------------------+--------------------+\n",
            "|   Logistic Regression    | 0.9997250481165796 |\n",
            "| Random Forest Classifer  |        1.0         |\n",
            "| Decision Tree Classifier | 0.9997250481165796 |\n",
            "| Support Vector Classifer | 0.5457794885894969 |\n",
            "| Artifical Neural Network | 0.5455045104026794 |\n",
            "+--------------------------+--------------------+\n"
          ]
        }
      ]
    },
    {
      "cell_type": "markdown",
      "source": [
        "##Confusion Matrix and Classification Report"
      ],
      "metadata": {
        "id": "OXN4aPyMI_N8"
      }
    },
    {
      "cell_type": "markdown",
      "source": [
        "###Logistic Regression"
      ],
      "metadata": {
        "id": "bF9_ylt-JUqJ"
      }
    },
    {
      "cell_type": "code",
      "source": [
        "confusion_matrix(y_test, y_pred_LR)"
      ],
      "metadata": {
        "colab": {
          "base_uri": "https://localhost:8080/"
        },
        "id": "hxktcYMGJBlR",
        "outputId": "4e5b22c7-9a28-43d1-c1dd-8fe9c179d447"
      },
      "execution_count": null,
      "outputs": [
        {
          "output_type": "execute_result",
          "data": {
            "text/plain": [
              "array([[1653,    0],\n",
              "       [   1, 1983]])"
            ]
          },
          "metadata": {},
          "execution_count": 32
        }
      ]
    },
    {
      "cell_type": "code",
      "source": [
        "print(classification_report(y_test, y_pred_LR))"
      ],
      "metadata": {
        "colab": {
          "base_uri": "https://localhost:8080/"
        },
        "id": "yH2xt1nWKGAb",
        "outputId": "a3872d83-f315-46a5-f340-faf2292457de"
      },
      "execution_count": null,
      "outputs": [
        {
          "output_type": "stream",
          "name": "stdout",
          "text": [
            "              precision    recall  f1-score   support\n",
            "\n",
            "           0       1.00      1.00      1.00      1653\n",
            "           1       1.00      1.00      1.00      1984\n",
            "\n",
            "    accuracy                           1.00      3637\n",
            "   macro avg       1.00      1.00      1.00      3637\n",
            "weighted avg       1.00      1.00      1.00      3637\n",
            "\n"
          ]
        }
      ]
    },
    {
      "cell_type": "markdown",
      "source": [
        "###Random Forest Classifier"
      ],
      "metadata": {
        "id": "5b_iyJqxJXkv"
      }
    },
    {
      "cell_type": "code",
      "source": [
        "confusion_matrix(y_test, y_pred_RF)"
      ],
      "metadata": {
        "colab": {
          "base_uri": "https://localhost:8080/"
        },
        "id": "Be6VckShJaco",
        "outputId": "12c74272-1674-4c39-948a-0429927e29a6"
      },
      "execution_count": null,
      "outputs": [
        {
          "output_type": "execute_result",
          "data": {
            "text/plain": [
              "array([[1653,    0],\n",
              "       [   0, 1984]])"
            ]
          },
          "metadata": {},
          "execution_count": 34
        }
      ]
    },
    {
      "cell_type": "code",
      "source": [
        "print(classification_report(y_test, y_pred_RF))"
      ],
      "metadata": {
        "colab": {
          "base_uri": "https://localhost:8080/"
        },
        "id": "VuqDwzEnKMoi",
        "outputId": "417254cc-a5e6-4177-836e-b71475b27aed"
      },
      "execution_count": null,
      "outputs": [
        {
          "output_type": "stream",
          "name": "stdout",
          "text": [
            "              precision    recall  f1-score   support\n",
            "\n",
            "           0       1.00      1.00      1.00      1653\n",
            "           1       1.00      1.00      1.00      1984\n",
            "\n",
            "    accuracy                           1.00      3637\n",
            "   macro avg       1.00      1.00      1.00      3637\n",
            "weighted avg       1.00      1.00      1.00      3637\n",
            "\n"
          ]
        }
      ]
    },
    {
      "cell_type": "markdown",
      "source": [
        "##Decision Tree Classifier"
      ],
      "metadata": {
        "id": "iUm6MvoT6ydr"
      }
    },
    {
      "cell_type": "code",
      "source": [
        "confusion_matrix(y_test, y_pred_tree)"
      ],
      "metadata": {
        "colab": {
          "base_uri": "https://localhost:8080/"
        },
        "id": "NWRnU-vj60gn",
        "outputId": "151d9ba3-e256-44ba-9e9d-dd65225e4a89"
      },
      "execution_count": 10,
      "outputs": [
        {
          "output_type": "execute_result",
          "data": {
            "text/plain": [
              "array([[1652,    1],\n",
              "       [   0, 1984]])"
            ]
          },
          "metadata": {},
          "execution_count": 10
        }
      ]
    },
    {
      "cell_type": "code",
      "source": [
        "print(classification_report(y_test, y_pred_tree))"
      ],
      "metadata": {
        "colab": {
          "base_uri": "https://localhost:8080/"
        },
        "id": "9neOmx9_64m4",
        "outputId": "04a6509e-344a-4054-fa0d-fac62688aa2c"
      },
      "execution_count": 11,
      "outputs": [
        {
          "output_type": "stream",
          "name": "stdout",
          "text": [
            "              precision    recall  f1-score   support\n",
            "\n",
            "           0       1.00      1.00      1.00      1653\n",
            "           1       1.00      1.00      1.00      1984\n",
            "\n",
            "    accuracy                           1.00      3637\n",
            "   macro avg       1.00      1.00      1.00      3637\n",
            "weighted avg       1.00      1.00      1.00      3637\n",
            "\n"
          ]
        }
      ]
    },
    {
      "cell_type": "markdown",
      "source": [
        "###Support Vector Classifier"
      ],
      "metadata": {
        "id": "EOov-ciZJcWr"
      }
    },
    {
      "cell_type": "code",
      "source": [
        "confusion_matrix(y_test, y_pred_svc)"
      ],
      "metadata": {
        "colab": {
          "base_uri": "https://localhost:8080/"
        },
        "id": "hj0GJM-SJe23",
        "outputId": "53ae3da6-c094-4ec0-98ae-6161a543dcca"
      },
      "execution_count": null,
      "outputs": [
        {
          "output_type": "execute_result",
          "data": {
            "text/plain": [
              "array([[   1, 1652],\n",
              "       [   0, 1984]])"
            ]
          },
          "metadata": {},
          "execution_count": 36
        }
      ]
    },
    {
      "cell_type": "code",
      "source": [
        "print(classification_report(y_test, y_pred_svc))"
      ],
      "metadata": {
        "colab": {
          "base_uri": "https://localhost:8080/"
        },
        "id": "-P27K9A3Ku1Q",
        "outputId": "ecf7c7d1-4f5c-45ca-87bc-8d0179870fa4"
      },
      "execution_count": null,
      "outputs": [
        {
          "output_type": "stream",
          "name": "stdout",
          "text": [
            "              precision    recall  f1-score   support\n",
            "\n",
            "           0       1.00      0.00      0.00      1653\n",
            "           1       0.55      1.00      0.71      1984\n",
            "\n",
            "    accuracy                           0.55      3637\n",
            "   macro avg       0.77      0.50      0.35      3637\n",
            "weighted avg       0.75      0.55      0.39      3637\n",
            "\n"
          ]
        }
      ]
    }
  ]
}