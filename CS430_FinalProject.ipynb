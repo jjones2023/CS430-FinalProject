{
  "nbformat": 4,
  "nbformat_minor": 0,
  "metadata": {
    "colab": {
      "provenance": []
    },
    "kernelspec": {
      "name": "python3",
      "display_name": "Python 3"
    },
    "language_info": {
      "name": "python"
    }
  },
  "cells": [
    {
      "cell_type": "code",
      "execution_count": 1,
      "metadata": {
        "id": "bFokCzgY7ETi"
      },
      "outputs": [],
      "source": [
        "import pandas as pd\n",
        "import numpy as np\n",
        "import tensorflow as tf\n",
        "from tensorflow import keras\n",
        "from tensorflow.keras.layers import Dense\n",
        "from tensorflow.keras import Sequential\n",
        "import matplotlib.pyplot as plt\n",
        "from sklearn.model_selection import train_test_split\n",
        "from sklearn.metrics import mean_squared_error, mean_absolute_error\n",
        "from sklearn.metrics import accuracy_score\n",
        "from sklearn.metrics import classification_report, confusion_matrix\n",
        "from prettytable import PrettyTable"
      ]
    },
    {
      "cell_type": "code",
      "source": [
        "print(pd.__version__)\n",
        "print(np.__version__)\n",
        "print(tf.__version__)"
      ],
      "metadata": {
        "colab": {
          "base_uri": "https://localhost:8080/"
        },
        "id": "P8CQYpfHjqvM",
        "outputId": "68a1a6fa-b109-4fa3-9b9c-89fd47c86908"
      },
      "execution_count": 2,
      "outputs": [
        {
          "output_type": "stream",
          "name": "stdout",
          "text": [
            "1.3.5\n",
            "1.21.6\n",
            "2.9.2\n"
          ]
        }
      ]
    },
    {
      "cell_type": "code",
      "source": [
        "rice = pd.read_csv(\"/content/drive/MyDrive/Colab Notebooks/FinalProject_CS430/riceClassification.csv\")"
      ],
      "metadata": {
        "id": "LEw3eNxh-LTQ"
      },
      "execution_count": 2,
      "outputs": []
    },
    {
      "cell_type": "code",
      "source": [
        "rice.info()"
      ],
      "metadata": {
        "colab": {
          "base_uri": "https://localhost:8080/"
        },
        "id": "_7eq-r5u-Yzf",
        "outputId": "bc5b81ed-ddc2-4b59-e55e-2e1a889b071c"
      },
      "execution_count": 3,
      "outputs": [
        {
          "output_type": "stream",
          "name": "stdout",
          "text": [
            "<class 'pandas.core.frame.DataFrame'>\n",
            "RangeIndex: 18185 entries, 0 to 18184\n",
            "Data columns (total 12 columns):\n",
            " #   Column           Non-Null Count  Dtype  \n",
            "---  ------           --------------  -----  \n",
            " 0   id               18185 non-null  int64  \n",
            " 1   Area             18185 non-null  int64  \n",
            " 2   MajorAxisLength  18185 non-null  float64\n",
            " 3   MinorAxisLength  18185 non-null  float64\n",
            " 4   Eccentricity     18185 non-null  float64\n",
            " 5   ConvexArea       18185 non-null  int64  \n",
            " 6   EquivDiameter    18185 non-null  float64\n",
            " 7   Extent           18185 non-null  float64\n",
            " 8   Perimeter        18185 non-null  float64\n",
            " 9   Roundness        18185 non-null  float64\n",
            " 10  AspectRation     18185 non-null  float64\n",
            " 11  Class            18185 non-null  int64  \n",
            "dtypes: float64(8), int64(4)\n",
            "memory usage: 1.7 MB\n"
          ]
        }
      ]
    },
    {
      "cell_type": "code",
      "source": [
        "X = rice.drop([\"Class\", \"id\"], axis = 1)"
      ],
      "metadata": {
        "id": "6kT2GVSa-arP"
      },
      "execution_count": 4,
      "outputs": []
    },
    {
      "cell_type": "code",
      "source": [
        "y = rice.Class"
      ],
      "metadata": {
        "id": "d8vuS_gH-xGF"
      },
      "execution_count": 5,
      "outputs": []
    },
    {
      "cell_type": "code",
      "source": [
        "rice.isnull().sum()"
      ],
      "metadata": {
        "colab": {
          "base_uri": "https://localhost:8080/"
        },
        "id": "Y08663rO_fPU",
        "outputId": "b2c048f2-ac49-48a5-9df9-ab09c10615b7"
      },
      "execution_count": 7,
      "outputs": [
        {
          "output_type": "execute_result",
          "data": {
            "text/plain": [
              "id                 0\n",
              "Area               0\n",
              "MajorAxisLength    0\n",
              "MinorAxisLength    0\n",
              "Eccentricity       0\n",
              "ConvexArea         0\n",
              "EquivDiameter      0\n",
              "Extent             0\n",
              "Perimeter          0\n",
              "Roundness          0\n",
              "AspectRation       0\n",
              "Class              0\n",
              "dtype: int64"
            ]
          },
          "metadata": {},
          "execution_count": 7
        }
      ]
    },
    {
      "cell_type": "code",
      "source": [
        "count0 = (rice.Class == 0).sum()\n",
        "count1 = (rice.Class == 1).sum()\n",
        "print(count0, count1)"
      ],
      "metadata": {
        "colab": {
          "base_uri": "https://localhost:8080/"
        },
        "id": "Vu3Aty_S_rx8",
        "outputId": "6b52187f-f4de-4d5e-e5e6-feadec1b711b"
      },
      "execution_count": 11,
      "outputs": [
        {
          "output_type": "stream",
          "name": "stdout",
          "text": [
            "8200 9985\n"
          ]
        }
      ]
    },
    {
      "cell_type": "markdown",
      "source": [
        "##Correlation Matrix"
      ],
      "metadata": {
        "id": "lEA1m34puqbo"
      }
    },
    {
      "cell_type": "code",
      "source": [
        "corr_matrix = rice.corr()\n",
        "print(corr_matrix)"
      ],
      "metadata": {
        "colab": {
          "base_uri": "https://localhost:8080/"
        },
        "id": "E4RiqYxnupwZ",
        "outputId": "e03a1791-62e6-4873-92ac-7583759b575d"
      },
      "execution_count": null,
      "outputs": [
        {
          "output_type": "stream",
          "name": "stdout",
          "text": [
            "                       id      Area  MajorAxisLength  MinorAxisLength  \\\n",
            "id               1.000000  0.709155         0.464022         0.637148   \n",
            "Area             0.709155  1.000000         0.599939         0.930215   \n",
            "MajorAxisLength  0.464022  0.599939         1.000000         0.273211   \n",
            "MinorAxisLength  0.637148  0.930215         0.273211         1.000000   \n",
            "Eccentricity    -0.347816 -0.550073         0.295717        -0.808640   \n",
            "ConvexArea       0.707600  0.999362         0.602061         0.928992   \n",
            "EquivDiameter    0.706333  0.998158         0.618002         0.923790   \n",
            "Extent           0.149924  0.230541        -0.073549         0.308541   \n",
            "Perimeter        0.628830  0.881540         0.870178         0.674249   \n",
            "Roundness        0.430033  0.620490        -0.202566         0.834398   \n",
            "AspectRation    -0.382648 -0.623979         0.240471        -0.860516   \n",
            "Class           -0.808591 -0.816589        -0.147741        -0.917766   \n",
            "\n",
            "                 Eccentricity  ConvexArea  EquivDiameter    Extent  Perimeter  \\\n",
            "id                  -0.347816    0.707600       0.706333  0.149924   0.628830   \n",
            "Area                -0.550073    0.999362       0.998158  0.230541   0.881540   \n",
            "MajorAxisLength      0.295717    0.602061       0.618002 -0.073549   0.870178   \n",
            "MinorAxisLength     -0.808640    0.928992       0.923790  0.308541   0.674249   \n",
            "Eccentricity         1.000000   -0.547896      -0.534688 -0.329954  -0.165915   \n",
            "ConvexArea          -0.547896    1.000000       0.997403  0.227359   0.886987   \n",
            "EquivDiameter       -0.534688    0.997403       1.000000  0.225944   0.891567   \n",
            "Extent              -0.329954    0.227359       0.225944  1.000000   0.073227   \n",
            "Perimeter           -0.165915    0.886987       0.891567  0.073227   1.000000   \n",
            "Roundness           -0.903657    0.610236       0.607432  0.366793   0.186063   \n",
            "AspectRation         0.950301   -0.621472      -0.609957 -0.350875  -0.227256   \n",
            "Class                0.788636   -0.814214      -0.809361 -0.303440  -0.533274   \n",
            "\n",
            "                 Roundness  AspectRation     Class  \n",
            "id                0.430033     -0.382648 -0.808591  \n",
            "Area              0.620490     -0.623979 -0.816589  \n",
            "MajorAxisLength  -0.202566      0.240471 -0.147741  \n",
            "MinorAxisLength   0.834398     -0.860516 -0.917766  \n",
            "Eccentricity     -0.903657      0.950301  0.788636  \n",
            "ConvexArea        0.610236     -0.621472 -0.814214  \n",
            "EquivDiameter     0.607432     -0.609957 -0.809361  \n",
            "Extent            0.366793     -0.350875 -0.303440  \n",
            "Perimeter         0.186063     -0.227256 -0.533274  \n",
            "Roundness         1.000000     -0.947875 -0.831759  \n",
            "AspectRation     -0.947875      1.000000  0.832563  \n",
            "Class            -0.831759      0.832563  1.000000  \n"
          ]
        }
      ]
    },
    {
      "cell_type": "markdown",
      "source": [
        "##Splitting the Dataset"
      ],
      "metadata": {
        "id": "RcDEJEuvij8N"
      }
    },
    {
      "cell_type": "code",
      "source": [
        "X_train, X_test, y_train, y_test = train_test_split(X,y, \n",
        "                                                    test_size=0.2, \n",
        "                                                    random_state=0)"
      ],
      "metadata": {
        "id": "Cnk1EYvBijMC"
      },
      "execution_count": 6,
      "outputs": []
    },
    {
      "cell_type": "markdown",
      "source": [
        "##Scaling the Dataset"
      ],
      "metadata": {
        "id": "kvp55P0Yh7RY"
      }
    },
    {
      "cell_type": "code",
      "source": [
        "from sklearn.preprocessing import StandardScaler\n",
        "sc = StandardScaler()\n",
        "X_train = sc.fit_transform(X_train)\n",
        "X_test = sc.transform(X_test)"
      ],
      "metadata": {
        "id": "O1xF3lggh6aM"
      },
      "execution_count": 7,
      "outputs": []
    },
    {
      "cell_type": "markdown",
      "source": [
        "##Logistic Regression"
      ],
      "metadata": {
        "id": "0S-oPbytBBsr"
      }
    },
    {
      "cell_type": "code",
      "source": [
        "from sklearn.linear_model import LogisticRegression\n",
        "LR_model = LogisticRegression(solver = 'lbfgs', \n",
        "                             multi_class='multinomial', \n",
        "                             max_iter = 10000)\n",
        "LR_model.fit(X_train, y_train)\n",
        "y_pred_LR = LR_model.predict(X_test)\n",
        "LR_score = accuracy_score(y_test,y_pred_LR)"
      ],
      "metadata": {
        "id": "PekDjwmDBDN0"
      },
      "execution_count": 8,
      "outputs": []
    },
    {
      "cell_type": "code",
      "source": [
        "print(LR_score)"
      ],
      "metadata": {
        "colab": {
          "base_uri": "https://localhost:8080/"
        },
        "id": "KYtCDM7SIJbE",
        "outputId": "40a6a352-c4eb-45ae-d07a-1cc95c8fe9e5"
      },
      "execution_count": 9,
      "outputs": [
        {
          "output_type": "stream",
          "name": "stdout",
          "text": [
            "0.9881770690129228\n"
          ]
        }
      ]
    },
    {
      "cell_type": "markdown",
      "source": [
        "##Random Forest Classification"
      ],
      "metadata": {
        "id": "IuH4R6JNBDcy"
      }
    },
    {
      "cell_type": "code",
      "source": [
        "from sklearn.ensemble import RandomForestClassifier\n",
        "RF_model = RandomForestClassifier()\n",
        "RF_model.fit(X_train, y_train)\n",
        "y_pred_RF = RF_model.predict(X_test)\n",
        "RF_score = accuracy_score(y_test, y_pred_RF)"
      ],
      "metadata": {
        "id": "DoRh8GJgBG-k"
      },
      "execution_count": 10,
      "outputs": []
    },
    {
      "cell_type": "code",
      "source": [
        "print(RF_score)"
      ],
      "metadata": {
        "colab": {
          "base_uri": "https://localhost:8080/"
        },
        "id": "9ajm7vicCrqn",
        "outputId": "968bb038-afbd-4aed-ad98-f69966cab66f"
      },
      "execution_count": 11,
      "outputs": [
        {
          "output_type": "stream",
          "name": "stdout",
          "text": [
            "0.9879021171295024\n"
          ]
        }
      ]
    },
    {
      "cell_type": "markdown",
      "source": [
        "##Decision Tree Classifier"
      ],
      "metadata": {
        "id": "aJpint1qBHmF"
      }
    },
    {
      "cell_type": "code",
      "source": [
        "from sklearn.tree import DecisionTreeClassifier\n",
        "clf_gini = DecisionTreeClassifier(criterion = 'gini', max_depth=3, random_state=0)\n",
        "clf_gini.fit(X_train, y_train)"
      ],
      "metadata": {
        "colab": {
          "base_uri": "https://localhost:8080/"
        },
        "id": "rXKBZIYRBJza",
        "outputId": "260ce1bd-8176-494a-bbe4-f175efdb4339"
      },
      "execution_count": 12,
      "outputs": [
        {
          "output_type": "execute_result",
          "data": {
            "text/plain": [
              "DecisionTreeClassifier(max_depth=3, random_state=0)"
            ]
          },
          "metadata": {},
          "execution_count": 12
        }
      ]
    },
    {
      "cell_type": "code",
      "source": [
        "y_pred_tree = clf_gini.predict(X_test)"
      ],
      "metadata": {
        "id": "xxuckjJ26WSE"
      },
      "execution_count": 13,
      "outputs": []
    },
    {
      "cell_type": "code",
      "source": [
        "DTC_score = clf_gini.score(X_test, y_test)\n",
        "print(DTC_score)"
      ],
      "metadata": {
        "colab": {
          "base_uri": "https://localhost:8080/"
        },
        "id": "NaP3L8GzdsFo",
        "outputId": "23694c3a-abe5-4d77-ad0f-c3d8207d7529"
      },
      "execution_count": 14,
      "outputs": [
        {
          "output_type": "stream",
          "name": "stdout",
          "text": [
            "0.9857025020621392\n"
          ]
        }
      ]
    },
    {
      "cell_type": "code",
      "source": [
        "plt.figure(figsize=(12,8))\n",
        "from sklearn import tree\n",
        "tree.plot_tree(clf_gini.fit(X_train, y_train))"
      ],
      "metadata": {
        "colab": {
          "base_uri": "https://localhost:8080/",
          "height": 739
        },
        "id": "x_RYtCmBd5zw",
        "outputId": "d0e7a32d-67be-4fc8-a84a-ef62c79dcd47"
      },
      "execution_count": 15,
      "outputs": [
        {
          "output_type": "execute_result",
          "data": {
            "text/plain": [
              "[Text(0.5, 0.875, 'X[2] <= -0.039\\ngini = 0.495\\nsamples = 14548\\nvalue = [6547, 8001]'),\n",
              " Text(0.25, 0.625, 'X[2] <= -0.208\\ngini = 0.036\\nsamples = 8093\\nvalue = [150, 7943]'),\n",
              " Text(0.125, 0.375, 'X[2] <= -0.395\\ngini = 0.017\\nsamples = 7872\\nvalue = [68, 7804]'),\n",
              " Text(0.0625, 0.125, 'gini = 0.007\\nsamples = 7321\\nvalue = [27, 7294]'),\n",
              " Text(0.1875, 0.125, 'gini = 0.138\\nsamples = 551\\nvalue = [41, 510]'),\n",
              " Text(0.375, 0.375, 'X[8] <= 0.283\\ngini = 0.467\\nsamples = 221\\nvalue = [82, 139]'),\n",
              " Text(0.3125, 0.125, 'gini = 0.284\\nsamples = 152\\nvalue = [26, 126]'),\n",
              " Text(0.4375, 0.125, 'gini = 0.306\\nsamples = 69\\nvalue = [56, 13]'),\n",
              " Text(0.75, 0.625, 'X[8] <= -0.08\\ngini = 0.018\\nsamples = 6455\\nvalue = [6397, 58]'),\n",
              " Text(0.625, 0.375, 'X[4] <= 0.333\\ngini = 0.407\\nsamples = 123\\nvalue = [88, 35]'),\n",
              " Text(0.5625, 0.125, 'gini = 0.325\\nsamples = 44\\nvalue = [9, 35]'),\n",
              " Text(0.6875, 0.125, 'gini = 0.0\\nsamples = 79\\nvalue = [79, 0]'),\n",
              " Text(0.875, 0.375, 'X[4] <= -1.211\\ngini = 0.007\\nsamples = 6332\\nvalue = [6309, 23]'),\n",
              " Text(0.8125, 0.125, 'gini = 0.0\\nsamples = 4\\nvalue = [0, 4]'),\n",
              " Text(0.9375, 0.125, 'gini = 0.006\\nsamples = 6328\\nvalue = [6309, 19]')]"
            ]
          },
          "metadata": {},
          "execution_count": 15
        },
        {
          "output_type": "display_data",
          "data": {
            "text/plain": [
              "<Figure size 864x576 with 1 Axes>"
            ],
            "image/png": "[encoded data removed]"
          },
          "metadata": {
            "needs_background": "light"
          }
        }
      ]
    },
    {
      "cell_type": "markdown",
      "source": [
        "##Support Vector Classifier"
      ],
      "metadata": {
        "id": "atZljpsEBKBq"
      }
    },
    {
      "cell_type": "code",
      "source": [
        "from sklearn.svm import SVC\n",
        "svc_clf = SVC(gamma='auto', probability = True)\n",
        "svc_clf.fit(X_train, y_train)\n",
        "y_pred_svc = svc_clf.predict(X_test)\n",
        "\n",
        "SVC_score = accuracy_score(y_test, y_pred_svc)\n",
        "print(SVC_score)"
      ],
      "metadata": {
        "colab": {
          "base_uri": "https://localhost:8080/"
        },
        "id": "elaOKu4EBM-u",
        "outputId": "fb666772-7b58-417c-d9f1-3baba7ba52eb"
      },
      "execution_count": 16,
      "outputs": [
        {
          "output_type": "stream",
          "name": "stdout",
          "text": [
            "0.9879021171295024\n"
          ]
        }
      ]
    },
    {
      "cell_type": "markdown",
      "source": [
        "##RandomizedSearchCV"
      ],
      "metadata": {
        "id": "ueAxypnECBwA"
      }
    },
    {
      "cell_type": "code",
      "source": [
        "model_params = {\n",
        "    'Logistic Regression': {\n",
        "        'model': LogisticRegression(),\n",
        "        'params': {\n",
        "            'solver': ['lbfgs', 'liblinear', 'newton-cg', 'newton-cholesky', 'sag', 'saga'],\n",
        "            'multi_class': ['auto', 'ovr', 'multinomial'],\n",
        "            'max_iter': [100,200,500,1000]\n",
        "        }\n",
        "    },\n",
        "    'RandomForest Classifier': {\n",
        "        'model': RandomForestClassifier(),\n",
        "        'params': {\n",
        "            \n",
        "        }\n",
        "    },\n",
        "    'Decision Tree Classifier': {\n",
        "        'model': DecisionTreeClassifier(),\n",
        "        'params': {\n",
        "            'criterion': ['gini', 'entropy'],\n",
        "            'max_depth': [3,5,10,20],\n",
        "            'random_state': [0]\n",
        "        }\n",
        "    },\n",
        "    'Support Vector Classifier': {\n",
        "        'model': SVC(),\n",
        "        'params': {\n",
        "            'C': [0.1,1,10,20,100],\n",
        "            'kernel': ['rbf', 'linear', 'poly']\n",
        "        }\n",
        "    }\n",
        "}"
      ],
      "metadata": {
        "id": "M1yqt1klCEWy"
      },
      "execution_count": null,
      "outputs": []
    },
    {
      "cell_type": "code",
      "source": [
        "from sklearn.model_selection import RandomizedSearchCV\n",
        "scores = []\n",
        "for model_name, model_parameter in model_params.items():\n",
        "  clf = RandomizedSearchCV(model_parameter['model'], model_parameter['params'], \n",
        "                           cv = 6, \n",
        "                           return_train_score=False, \n",
        "                           n_iter = 20)\n",
        "  clf.fit(X_train, y_train)\n",
        "  scores.append({\n",
        "    'model': model_name,\n",
        "    'best_scores': clf.best_score_,\n",
        "    'best_params': clf.best_params_\n",
        "})"
      ],
      "metadata": {
        "colab": {
          "base_uri": "https://localhost:8080/"
        },
        "id": "ENYHOX3JHqAW",
        "outputId": "3853e670-17b5-428d-fe89-16add946e7bb"
      },
      "execution_count": null,
      "outputs": [
        {
          "output_type": "stream",
          "name": "stderr",
          "text": [
            "/usr/local/lib/python3.8/dist-packages/sklearn/linear_model/_sag.py:352: ConvergenceWarning: The max_iter was reached which means the coef_ did not converge\n",
            "  warnings.warn(\n",
            "/usr/local/lib/python3.8/dist-packages/sklearn/linear_model/_sag.py:352: ConvergenceWarning: The max_iter was reached which means the coef_ did not converge\n",
            "  warnings.warn(\n",
            "/usr/local/lib/python3.8/dist-packages/sklearn/linear_model/_sag.py:352: ConvergenceWarning: The max_iter was reached which means the coef_ did not converge\n",
            "  warnings.warn(\n",
            "/usr/local/lib/python3.8/dist-packages/sklearn/linear_model/_sag.py:352: ConvergenceWarning: The max_iter was reached which means the coef_ did not converge\n",
            "  warnings.warn(\n",
            "/usr/local/lib/python3.8/dist-packages/sklearn/linear_model/_sag.py:352: ConvergenceWarning: The max_iter was reached which means the coef_ did not converge\n",
            "  warnings.warn(\n",
            "/usr/local/lib/python3.8/dist-packages/sklearn/linear_model/_sag.py:352: ConvergenceWarning: The max_iter was reached which means the coef_ did not converge\n",
            "  warnings.warn(\n",
            "/usr/local/lib/python3.8/dist-packages/sklearn/linear_model/_sag.py:352: ConvergenceWarning: The max_iter was reached which means the coef_ did not converge\n",
            "  warnings.warn(\n",
            "/usr/local/lib/python3.8/dist-packages/sklearn/linear_model/_sag.py:352: ConvergenceWarning: The max_iter was reached which means the coef_ did not converge\n",
            "  warnings.warn(\n",
            "/usr/local/lib/python3.8/dist-packages/sklearn/linear_model/_sag.py:352: ConvergenceWarning: The max_iter was reached which means the coef_ did not converge\n",
            "  warnings.warn(\n",
            "/usr/local/lib/python3.8/dist-packages/sklearn/linear_model/_sag.py:352: ConvergenceWarning: The max_iter was reached which means the coef_ did not converge\n",
            "  warnings.warn(\n",
            "/usr/local/lib/python3.8/dist-packages/sklearn/linear_model/_sag.py:352: ConvergenceWarning: The max_iter was reached which means the coef_ did not converge\n",
            "  warnings.warn(\n",
            "/usr/local/lib/python3.8/dist-packages/sklearn/linear_model/_sag.py:352: ConvergenceWarning: The max_iter was reached which means the coef_ did not converge\n",
            "  warnings.warn(\n",
            "/usr/local/lib/python3.8/dist-packages/sklearn/linear_model/_sag.py:352: ConvergenceWarning: The max_iter was reached which means the coef_ did not converge\n",
            "  warnings.warn(\n",
            "/usr/local/lib/python3.8/dist-packages/sklearn/linear_model/_sag.py:352: ConvergenceWarning: The max_iter was reached which means the coef_ did not converge\n",
            "  warnings.warn(\n",
            "/usr/local/lib/python3.8/dist-packages/sklearn/linear_model/_sag.py:352: ConvergenceWarning: The max_iter was reached which means the coef_ did not converge\n",
            "  warnings.warn(\n",
            "/usr/local/lib/python3.8/dist-packages/sklearn/linear_model/_sag.py:352: ConvergenceWarning: The max_iter was reached which means the coef_ did not converge\n",
            "  warnings.warn(\n",
            "/usr/local/lib/python3.8/dist-packages/sklearn/linear_model/_sag.py:352: ConvergenceWarning: The max_iter was reached which means the coef_ did not converge\n",
            "  warnings.warn(\n",
            "/usr/local/lib/python3.8/dist-packages/sklearn/linear_model/_sag.py:352: ConvergenceWarning: The max_iter was reached which means the coef_ did not converge\n",
            "  warnings.warn(\n",
            "/usr/local/lib/python3.8/dist-packages/sklearn/utils/optimize.py:210: ConvergenceWarning: newton-cg failed to converge. Increase the number of iterations.\n",
            "  warnings.warn(\n",
            "/usr/local/lib/python3.8/dist-packages/sklearn/linear_model/_sag.py:352: ConvergenceWarning: The max_iter was reached which means the coef_ did not converge\n",
            "  warnings.warn(\n",
            "/usr/local/lib/python3.8/dist-packages/sklearn/linear_model/_sag.py:352: ConvergenceWarning: The max_iter was reached which means the coef_ did not converge\n",
            "  warnings.warn(\n",
            "/usr/local/lib/python3.8/dist-packages/sklearn/linear_model/_sag.py:352: ConvergenceWarning: The max_iter was reached which means the coef_ did not converge\n",
            "  warnings.warn(\n",
            "/usr/local/lib/python3.8/dist-packages/sklearn/linear_model/_sag.py:352: ConvergenceWarning: The max_iter was reached which means the coef_ did not converge\n",
            "  warnings.warn(\n",
            "/usr/local/lib/python3.8/dist-packages/sklearn/linear_model/_sag.py:352: ConvergenceWarning: The max_iter was reached which means the coef_ did not converge\n",
            "  warnings.warn(\n",
            "/usr/local/lib/python3.8/dist-packages/sklearn/linear_model/_sag.py:352: ConvergenceWarning: The max_iter was reached which means the coef_ did not converge\n",
            "  warnings.warn(\n",
            "/usr/local/lib/python3.8/dist-packages/sklearn/linear_model/_sag.py:352: ConvergenceWarning: The max_iter was reached which means the coef_ did not converge\n",
            "  warnings.warn(\n",
            "/usr/local/lib/python3.8/dist-packages/sklearn/linear_model/_sag.py:352: ConvergenceWarning: The max_iter was reached which means the coef_ did not converge\n",
            "  warnings.warn(\n",
            "/usr/local/lib/python3.8/dist-packages/sklearn/linear_model/_sag.py:352: ConvergenceWarning: The max_iter was reached which means the coef_ did not converge\n",
            "  warnings.warn(\n",
            "/usr/local/lib/python3.8/dist-packages/sklearn/linear_model/_sag.py:352: ConvergenceWarning: The max_iter was reached which means the coef_ did not converge\n",
            "  warnings.warn(\n",
            "/usr/local/lib/python3.8/dist-packages/sklearn/linear_model/_sag.py:352: ConvergenceWarning: The max_iter was reached which means the coef_ did not converge\n",
            "  warnings.warn(\n",
            "/usr/local/lib/python3.8/dist-packages/sklearn/linear_model/_sag.py:352: ConvergenceWarning: The max_iter was reached which means the coef_ did not converge\n",
            "  warnings.warn(\n",
            "/usr/local/lib/python3.8/dist-packages/sklearn/utils/optimize.py:210: ConvergenceWarning: newton-cg failed to converge. Increase the number of iterations.\n",
            "  warnings.warn(\n",
            "/usr/local/lib/python3.8/dist-packages/sklearn/utils/optimize.py:210: ConvergenceWarning: newton-cg failed to converge. Increase the number of iterations.\n",
            "  warnings.warn(\n",
            "/usr/local/lib/python3.8/dist-packages/sklearn/utils/optimize.py:210: ConvergenceWarning: newton-cg failed to converge. Increase the number of iterations.\n",
            "  warnings.warn(\n",
            "/usr/local/lib/python3.8/dist-packages/sklearn/linear_model/_logistic.py:814: ConvergenceWarning: lbfgs failed to converge (status=1):\n",
            "STOP: TOTAL NO. of ITERATIONS REACHED LIMIT.\n",
            "\n",
            "Increase the number of iterations (max_iter) or scale the data as shown in:\n",
            "    https://scikit-learn.org/stable/modules/preprocessing.html\n",
            "Please also refer to the documentation for alternative solver options:\n",
            "    https://scikit-learn.org/stable/modules/linear_model.html#logistic-regression\n",
            "  n_iter_i = _check_optimize_result(\n",
            "/usr/local/lib/python3.8/dist-packages/sklearn/linear_model/_logistic.py:814: ConvergenceWarning: lbfgs failed to converge (status=1):\n",
            "STOP: TOTAL NO. of ITERATIONS REACHED LIMIT.\n",
            "\n",
            "Increase the number of iterations (max_iter) or scale the data as shown in:\n",
            "    https://scikit-learn.org/stable/modules/preprocessing.html\n",
            "Please also refer to the documentation for alternative solver options:\n",
            "    https://scikit-learn.org/stable/modules/linear_model.html#logistic-regression\n",
            "  n_iter_i = _check_optimize_result(\n",
            "/usr/local/lib/python3.8/dist-packages/sklearn/linear_model/_logistic.py:814: ConvergenceWarning: lbfgs failed to converge (status=1):\n",
            "STOP: TOTAL NO. of ITERATIONS REACHED LIMIT.\n",
            "\n",
            "Increase the number of iterations (max_iter) or scale the data as shown in:\n",
            "    https://scikit-learn.org/stable/modules/preprocessing.html\n",
            "Please also refer to the documentation for alternative solver options:\n",
            "    https://scikit-learn.org/stable/modules/linear_model.html#logistic-regression\n",
            "  n_iter_i = _check_optimize_result(\n",
            "/usr/local/lib/python3.8/dist-packages/sklearn/linear_model/_logistic.py:814: ConvergenceWarning: lbfgs failed to converge (status=1):\n",
            "STOP: TOTAL NO. of ITERATIONS REACHED LIMIT.\n",
            "\n",
            "Increase the number of iterations (max_iter) or scale the data as shown in:\n",
            "    https://scikit-learn.org/stable/modules/preprocessing.html\n",
            "Please also refer to the documentation for alternative solver options:\n",
            "    https://scikit-learn.org/stable/modules/linear_model.html#logistic-regression\n",
            "  n_iter_i = _check_optimize_result(\n",
            "/usr/local/lib/python3.8/dist-packages/sklearn/linear_model/_logistic.py:814: ConvergenceWarning: lbfgs failed to converge (status=1):\n",
            "STOP: TOTAL NO. of ITERATIONS REACHED LIMIT.\n",
            "\n",
            "Increase the number of iterations (max_iter) or scale the data as shown in:\n",
            "    https://scikit-learn.org/stable/modules/preprocessing.html\n",
            "Please also refer to the documentation for alternative solver options:\n",
            "    https://scikit-learn.org/stable/modules/linear_model.html#logistic-regression\n",
            "  n_iter_i = _check_optimize_result(\n",
            "/usr/local/lib/python3.8/dist-packages/sklearn/linear_model/_logistic.py:814: ConvergenceWarning: lbfgs failed to converge (status=1):\n",
            "STOP: TOTAL NO. of ITERATIONS REACHED LIMIT.\n",
            "\n",
            "Increase the number of iterations (max_iter) or scale the data as shown in:\n",
            "    https://scikit-learn.org/stable/modules/preprocessing.html\n",
            "Please also refer to the documentation for alternative solver options:\n",
            "    https://scikit-learn.org/stable/modules/linear_model.html#logistic-regression\n",
            "  n_iter_i = _check_optimize_result(\n",
            "/usr/local/lib/python3.8/dist-packages/sklearn/linear_model/_sag.py:352: ConvergenceWarning: The max_iter was reached which means the coef_ did not converge\n",
            "  warnings.warn(\n",
            "/usr/local/lib/python3.8/dist-packages/sklearn/linear_model/_sag.py:352: ConvergenceWarning: The max_iter was reached which means the coef_ did not converge\n",
            "  warnings.warn(\n",
            "/usr/local/lib/python3.8/dist-packages/sklearn/linear_model/_sag.py:352: ConvergenceWarning: The max_iter was reached which means the coef_ did not converge\n",
            "  warnings.warn(\n",
            "/usr/local/lib/python3.8/dist-packages/sklearn/linear_model/_sag.py:352: ConvergenceWarning: The max_iter was reached which means the coef_ did not converge\n",
            "  warnings.warn(\n",
            "/usr/local/lib/python3.8/dist-packages/sklearn/linear_model/_sag.py:352: ConvergenceWarning: The max_iter was reached which means the coef_ did not converge\n",
            "  warnings.warn(\n",
            "/usr/local/lib/python3.8/dist-packages/sklearn/linear_model/_sag.py:352: ConvergenceWarning: The max_iter was reached which means the coef_ did not converge\n",
            "  warnings.warn(\n",
            "/usr/local/lib/python3.8/dist-packages/sklearn/linear_model/_sag.py:352: ConvergenceWarning: The max_iter was reached which means the coef_ did not converge\n",
            "  warnings.warn(\n",
            "/usr/local/lib/python3.8/dist-packages/sklearn/linear_model/_sag.py:352: ConvergenceWarning: The max_iter was reached which means the coef_ did not converge\n",
            "  warnings.warn(\n",
            "/usr/local/lib/python3.8/dist-packages/sklearn/linear_model/_sag.py:352: ConvergenceWarning: The max_iter was reached which means the coef_ did not converge\n",
            "  warnings.warn(\n",
            "/usr/local/lib/python3.8/dist-packages/sklearn/linear_model/_sag.py:352: ConvergenceWarning: The max_iter was reached which means the coef_ did not converge\n",
            "  warnings.warn(\n",
            "/usr/local/lib/python3.8/dist-packages/sklearn/linear_model/_sag.py:352: ConvergenceWarning: The max_iter was reached which means the coef_ did not converge\n",
            "  warnings.warn(\n",
            "/usr/local/lib/python3.8/dist-packages/sklearn/linear_model/_sag.py:352: ConvergenceWarning: The max_iter was reached which means the coef_ did not converge\n",
            "  warnings.warn(\n",
            "/usr/local/lib/python3.8/dist-packages/sklearn/model_selection/_validation.py:372: FitFailedWarning: \n",
            "42 fits failed out of a total of 120.\n",
            "The score on these train-test partitions for these parameters will be set to nan.\n",
            "If these failures are not expected, you can try to debug them by setting error_score='raise'.\n",
            "\n",
            "Below are more details about the failures:\n",
            "--------------------------------------------------------------------------------\n",
            "36 fits failed with the following error:\n",
            "Traceback (most recent call last):\n",
            "  File \"/usr/local/lib/python3.8/dist-packages/sklearn/model_selection/_validation.py\", line 680, in _fit_and_score\n",
            "    estimator.fit(X_train, y_train, **fit_params)\n",
            "  File \"/usr/local/lib/python3.8/dist-packages/sklearn/linear_model/_logistic.py\", line 1461, in fit\n",
            "    solver = _check_solver(self.solver, self.penalty, self.dual)\n",
            "  File \"/usr/local/lib/python3.8/dist-packages/sklearn/linear_model/_logistic.py\", line 434, in _check_solver\n",
            "    raise ValueError(\n",
            "ValueError: Logistic Regression supports only solvers in ['liblinear', 'newton-cg', 'lbfgs', 'sag', 'saga'], got newton-cholesky.\n",
            "\n",
            "--------------------------------------------------------------------------------\n",
            "6 fits failed with the following error:\n",
            "Traceback (most recent call last):\n",
            "  File \"/usr/local/lib/python3.8/dist-packages/sklearn/model_selection/_validation.py\", line 680, in _fit_and_score\n",
            "    estimator.fit(X_train, y_train, **fit_params)\n",
            "  File \"/usr/local/lib/python3.8/dist-packages/sklearn/linear_model/_logistic.py\", line 1519, in fit\n",
            "    multi_class = _check_multi_class(self.multi_class, solver, len(self.classes_))\n",
            "  File \"/usr/local/lib/python3.8/dist-packages/sklearn/linear_model/_logistic.py\", line 483, in _check_multi_class\n",
            "    raise ValueError(\"Solver %s does not support a multinomial backend.\" % solver)\n",
            "ValueError: Solver liblinear does not support a multinomial backend.\n",
            "\n",
            "  warnings.warn(some_fits_failed_message, FitFailedWarning)\n",
            "/usr/local/lib/python3.8/dist-packages/sklearn/model_selection/_search.py:969: UserWarning: One or more of the test scores are non-finite: [0.99690671 1.                nan        nan 0.99250766 0.99326375\n",
            " 1.                nan        nan 0.99814399 0.98508404 0.99986251\n",
            " 1.                nan 1.         1.                nan        nan\n",
            " 0.98501531 0.98941459]\n",
            "  warnings.warn(\n",
            "/usr/local/lib/python3.8/dist-packages/sklearn/model_selection/_search.py:292: UserWarning: The total space of parameters 1 is smaller than n_iter=20. Running 1 iterations. For exhaustive searches, use GridSearchCV.\n",
            "  warnings.warn(\n",
            "/usr/local/lib/python3.8/dist-packages/sklearn/model_selection/_search.py:292: UserWarning: The total space of parameters 8 is smaller than n_iter=20. Running 8 iterations. For exhaustive searches, use GridSearchCV.\n",
            "  warnings.warn(\n",
            "/usr/local/lib/python3.8/dist-packages/sklearn/model_selection/_search.py:292: UserWarning: The total space of parameters 15 is smaller than n_iter=20. Running 15 iterations. For exhaustive searches, use GridSearchCV.\n",
            "  warnings.warn(\n"
          ]
        }
      ]
    },
    {
      "cell_type": "code",
      "source": [
        "scores"
      ],
      "metadata": {
        "colab": {
          "base_uri": "https://localhost:8080/"
        },
        "id": "dvFUnpAgIviE",
        "outputId": "228277d0-e522-462f-de15-0a08f269a000"
      },
      "execution_count": null,
      "outputs": [
        {
          "output_type": "execute_result",
          "data": {
            "text/plain": [
              "[{'model': 'Logistic Regression',\n",
              "  'best_scores': 1.0,\n",
              "  'best_params': {'solver': 'newton-cg',\n",
              "   'multi_class': 'auto',\n",
              "   'max_iter': 200}},\n",
              " {'model': 'RandomForest Classifier', 'best_scores': 1.0, 'best_params': {}},\n",
              " {'model': 'Decision Tree Classifier',\n",
              "  'best_scores': 0.9998625429553264,\n",
              "  'best_params': {'random_state': 0, 'max_depth': 3, 'criterion': 'gini'}},\n",
              " {'model': 'Support Vector Classifier',\n",
              "  'best_scores': 1.0,\n",
              "  'best_params': {'kernel': 'linear', 'C': 0.1}}]"
            ]
          },
          "metadata": {},
          "execution_count": 29
        }
      ]
    },
    {
      "cell_type": "markdown",
      "source": [
        "##Artificial Neural Network"
      ],
      "metadata": {
        "id": "eGj4RzDrBNYg"
      }
    },
    {
      "cell_type": "code",
      "source": [
        "#get number of columns in training data\n",
        "n_cols = X_train.shape[1]\n",
        "\n",
        "# builds model\n",
        "model = Sequential()\n",
        "\n",
        "model.add(Dense(150, activation='relu', \n",
        "                       input_shape=(n_cols,)))\n",
        "model.add(Dense(150, activation='relu'))\n",
        "model.add(Dense(150, activation='relu'))\n",
        "model.add(Dense(150, activation='relu'))\n",
        "model.add(Dense(150, activation='relu'))\n",
        "model.add(Dense(1))\n",
        "\n",
        "model.compile(loss='mean_squared_error', optimizer='adam',\n",
        "              metrics = [\"accuracy\"])\n",
        "\n",
        "#inspect the model\n",
        "model.summary()"
      ],
      "metadata": {
        "colab": {
          "base_uri": "https://localhost:8080/"
        },
        "id": "zFztI4W4BPsr",
        "outputId": "8b79252f-12fa-4db5-c721-ade016e02478"
      },
      "execution_count": 17,
      "outputs": [
        {
          "output_type": "stream",
          "name": "stdout",
          "text": [
            "Model: \"sequential\"\n",
            "_________________________________________________________________\n",
            " Layer (type)                Output Shape              Param #   \n",
            "=================================================================\n",
            " dense (Dense)               (None, 150)               1650      \n",
            "                                                                 \n",
            " dense_1 (Dense)             (None, 150)               22650     \n",
            "                                                                 \n",
            " dense_2 (Dense)             (None, 150)               22650     \n",
            "                                                                 \n",
            " dense_3 (Dense)             (None, 150)               22650     \n",
            "                                                                 \n",
            " dense_4 (Dense)             (None, 150)               22650     \n",
            "                                                                 \n",
            " dense_5 (Dense)             (None, 1)                 151       \n",
            "                                                                 \n",
            "=================================================================\n",
            "Total params: 92,401\n",
            "Trainable params: 92,401\n",
            "Non-trainable params: 0\n",
            "_________________________________________________________________\n"
          ]
        }
      ]
    },
    {
      "cell_type": "code",
      "source": [
        "from keras.callbacks import EarlyStopping\n",
        "#train model and perform validation test\n",
        "\n",
        "early_stop = EarlyStopping(monitor='accuracy', patience=30) # stops training when it doesn't show improvemnet.\n",
        "\n",
        "history = model.fit(X_train, y_train, epochs = 300,\n",
        "                    validation_split = 0.2, verbose = 1, callbacks = [early_stop])"
      ],
      "metadata": {
        "colab": {
          "base_uri": "https://localhost:8080/"
        },
        "id": "ym1io5IengcL",
        "outputId": "9e9e915b-bde1-4277-cd4f-3f7d034124c5"
      },
      "execution_count": 18,
      "outputs": [
        {
          "output_type": "stream",
          "name": "stdout",
          "text": [
            "Epoch 1/300\n",
            "364/364 [==============================] - 4s 7ms/step - loss: 0.0200 - accuracy: 0.9813 - val_loss: 0.0089 - val_accuracy: 0.9890\n",
            "Epoch 2/300\n",
            "364/364 [==============================] - 2s 4ms/step - loss: 0.0095 - accuracy: 0.9891 - val_loss: 0.0100 - val_accuracy: 0.9911\n",
            "Epoch 3/300\n",
            "364/364 [==============================] - 2s 4ms/step - loss: 0.0094 - accuracy: 0.9895 - val_loss: 0.0094 - val_accuracy: 0.9893\n",
            "Epoch 4/300\n",
            "364/364 [==============================] - 2s 4ms/step - loss: 0.0089 - accuracy: 0.9893 - val_loss: 0.0081 - val_accuracy: 0.9900\n",
            "Epoch 5/300\n",
            "364/364 [==============================] - 1s 4ms/step - loss: 0.0090 - accuracy: 0.9889 - val_loss: 0.0082 - val_accuracy: 0.9904\n",
            "Epoch 6/300\n",
            "364/364 [==============================] - 2s 4ms/step - loss: 0.0086 - accuracy: 0.9902 - val_loss: 0.0073 - val_accuracy: 0.9911\n",
            "Epoch 7/300\n",
            "364/364 [==============================] - 2s 4ms/step - loss: 0.0087 - accuracy: 0.9899 - val_loss: 0.0078 - val_accuracy: 0.9911\n",
            "Epoch 8/300\n",
            "364/364 [==============================] - 2s 4ms/step - loss: 0.0083 - accuracy: 0.9903 - val_loss: 0.0075 - val_accuracy: 0.9918\n",
            "Epoch 9/300\n",
            "364/364 [==============================] - 2s 4ms/step - loss: 0.0086 - accuracy: 0.9899 - val_loss: 0.0077 - val_accuracy: 0.9918\n",
            "Epoch 10/300\n",
            "364/364 [==============================] - 1s 4ms/step - loss: 0.0084 - accuracy: 0.9900 - val_loss: 0.0094 - val_accuracy: 0.9893\n",
            "Epoch 11/300\n",
            "364/364 [==============================] - 2s 4ms/step - loss: 0.0081 - accuracy: 0.9906 - val_loss: 0.0085 - val_accuracy: 0.9897\n",
            "Epoch 12/300\n",
            "364/364 [==============================] - 2s 4ms/step - loss: 0.0083 - accuracy: 0.9899 - val_loss: 0.0080 - val_accuracy: 0.9904\n",
            "Epoch 13/300\n",
            "364/364 [==============================] - 2s 4ms/step - loss: 0.0081 - accuracy: 0.9904 - val_loss: 0.0085 - val_accuracy: 0.9900\n",
            "Epoch 14/300\n",
            "364/364 [==============================] - 2s 4ms/step - loss: 0.0079 - accuracy: 0.9906 - val_loss: 0.0076 - val_accuracy: 0.9893\n",
            "Epoch 15/300\n",
            "364/364 [==============================] - 2s 4ms/step - loss: 0.0079 - accuracy: 0.9910 - val_loss: 0.0074 - val_accuracy: 0.9918\n",
            "Epoch 16/300\n",
            "364/364 [==============================] - 1s 4ms/step - loss: 0.0077 - accuracy: 0.9909 - val_loss: 0.0080 - val_accuracy: 0.9893\n",
            "Epoch 17/300\n",
            "364/364 [==============================] - 1s 4ms/step - loss: 0.0078 - accuracy: 0.9905 - val_loss: 0.0087 - val_accuracy: 0.9887\n",
            "Epoch 18/300\n",
            "364/364 [==============================] - 2s 4ms/step - loss: 0.0079 - accuracy: 0.9907 - val_loss: 0.0082 - val_accuracy: 0.9904\n",
            "Epoch 19/300\n",
            "364/364 [==============================] - 1s 4ms/step - loss: 0.0077 - accuracy: 0.9911 - val_loss: 0.0083 - val_accuracy: 0.9887\n",
            "Epoch 20/300\n",
            "364/364 [==============================] - 2s 4ms/step - loss: 0.0077 - accuracy: 0.9909 - val_loss: 0.0069 - val_accuracy: 0.9921\n",
            "Epoch 21/300\n",
            "364/364 [==============================] - 2s 4ms/step - loss: 0.0076 - accuracy: 0.9907 - val_loss: 0.0074 - val_accuracy: 0.9914\n",
            "Epoch 22/300\n",
            "364/364 [==============================] - 2s 6ms/step - loss: 0.0075 - accuracy: 0.9908 - val_loss: 0.0073 - val_accuracy: 0.9900\n",
            "Epoch 23/300\n",
            "364/364 [==============================] - 3s 10ms/step - loss: 0.0076 - accuracy: 0.9905 - val_loss: 0.0073 - val_accuracy: 0.9914\n",
            "Epoch 24/300\n",
            "364/364 [==============================] - 2s 4ms/step - loss: 0.0076 - accuracy: 0.9906 - val_loss: 0.0075 - val_accuracy: 0.9907\n",
            "Epoch 25/300\n",
            "364/364 [==============================] - 2s 4ms/step - loss: 0.0075 - accuracy: 0.9911 - val_loss: 0.0081 - val_accuracy: 0.9897\n",
            "Epoch 26/300\n",
            "364/364 [==============================] - 2s 4ms/step - loss: 0.0074 - accuracy: 0.9916 - val_loss: 0.0085 - val_accuracy: 0.9887\n",
            "Epoch 27/300\n",
            "364/364 [==============================] - 2s 4ms/step - loss: 0.0072 - accuracy: 0.9920 - val_loss: 0.0088 - val_accuracy: 0.9893\n",
            "Epoch 28/300\n",
            "364/364 [==============================] - 2s 4ms/step - loss: 0.0079 - accuracy: 0.9911 - val_loss: 0.0089 - val_accuracy: 0.9893\n",
            "Epoch 29/300\n",
            "364/364 [==============================] - 2s 5ms/step - loss: 0.0076 - accuracy: 0.9910 - val_loss: 0.0091 - val_accuracy: 0.9887\n",
            "Epoch 30/300\n",
            "364/364 [==============================] - 2s 5ms/step - loss: 0.0072 - accuracy: 0.9913 - val_loss: 0.0077 - val_accuracy: 0.9907\n",
            "Epoch 31/300\n",
            "364/364 [==============================] - 2s 4ms/step - loss: 0.0073 - accuracy: 0.9916 - val_loss: 0.0073 - val_accuracy: 0.9918\n",
            "Epoch 32/300\n",
            "364/364 [==============================] - 2s 4ms/step - loss: 0.0076 - accuracy: 0.9912 - val_loss: 0.0069 - val_accuracy: 0.9928\n",
            "Epoch 33/300\n",
            "364/364 [==============================] - 2s 4ms/step - loss: 0.0072 - accuracy: 0.9918 - val_loss: 0.0074 - val_accuracy: 0.9914\n",
            "Epoch 34/300\n",
            "364/364 [==============================] - 2s 4ms/step - loss: 0.0071 - accuracy: 0.9913 - val_loss: 0.0073 - val_accuracy: 0.9918\n",
            "Epoch 35/300\n",
            "364/364 [==============================] - 2s 4ms/step - loss: 0.0068 - accuracy: 0.9920 - val_loss: 0.0081 - val_accuracy: 0.9897\n",
            "Epoch 36/300\n",
            "364/364 [==============================] - 2s 4ms/step - loss: 0.0069 - accuracy: 0.9918 - val_loss: 0.0090 - val_accuracy: 0.9887\n",
            "Epoch 37/300\n",
            "364/364 [==============================] - 2s 4ms/step - loss: 0.0071 - accuracy: 0.9916 - val_loss: 0.0081 - val_accuracy: 0.9893\n",
            "Epoch 38/300\n",
            "364/364 [==============================] - 2s 4ms/step - loss: 0.0065 - accuracy: 0.9925 - val_loss: 0.0082 - val_accuracy: 0.9904\n",
            "Epoch 39/300\n",
            "364/364 [==============================] - 2s 7ms/step - loss: 0.0071 - accuracy: 0.9921 - val_loss: 0.0083 - val_accuracy: 0.9918\n",
            "Epoch 40/300\n",
            "364/364 [==============================] - 3s 8ms/step - loss: 0.0069 - accuracy: 0.9920 - val_loss: 0.0079 - val_accuracy: 0.9900\n",
            "Epoch 41/300\n",
            "364/364 [==============================] - 2s 5ms/step - loss: 0.0066 - accuracy: 0.9924 - val_loss: 0.0081 - val_accuracy: 0.9907\n",
            "Epoch 42/300\n",
            "364/364 [==============================] - 2s 5ms/step - loss: 0.0072 - accuracy: 0.9916 - val_loss: 0.0082 - val_accuracy: 0.9900\n",
            "Epoch 43/300\n",
            "364/364 [==============================] - 2s 5ms/step - loss: 0.0070 - accuracy: 0.9918 - val_loss: 0.0098 - val_accuracy: 0.9887\n",
            "Epoch 44/300\n",
            "364/364 [==============================] - 3s 8ms/step - loss: 0.0071 - accuracy: 0.9916 - val_loss: 0.0082 - val_accuracy: 0.9904\n",
            "Epoch 45/300\n",
            "364/364 [==============================] - 2s 5ms/step - loss: 0.0069 - accuracy: 0.9916 - val_loss: 0.0082 - val_accuracy: 0.9914\n",
            "Epoch 46/300\n",
            "364/364 [==============================] - 2s 4ms/step - loss: 0.0068 - accuracy: 0.9920 - val_loss: 0.0077 - val_accuracy: 0.9911\n",
            "Epoch 47/300\n",
            "364/364 [==============================] - 2s 4ms/step - loss: 0.0067 - accuracy: 0.9919 - val_loss: 0.0086 - val_accuracy: 0.9900\n",
            "Epoch 48/300\n",
            "364/364 [==============================] - 2s 4ms/step - loss: 0.0066 - accuracy: 0.9920 - val_loss: 0.0085 - val_accuracy: 0.9907\n",
            "Epoch 49/300\n",
            "364/364 [==============================] - 2s 4ms/step - loss: 0.0062 - accuracy: 0.9928 - val_loss: 0.0081 - val_accuracy: 0.9904\n",
            "Epoch 50/300\n",
            "364/364 [==============================] - 2s 4ms/step - loss: 0.0068 - accuracy: 0.9923 - val_loss: 0.0083 - val_accuracy: 0.9900\n",
            "Epoch 51/300\n",
            "364/364 [==============================] - 2s 4ms/step - loss: 0.0065 - accuracy: 0.9920 - val_loss: 0.0084 - val_accuracy: 0.9904\n",
            "Epoch 52/300\n",
            "364/364 [==============================] - 2s 4ms/step - loss: 0.0065 - accuracy: 0.9923 - val_loss: 0.0085 - val_accuracy: 0.9897\n",
            "Epoch 53/300\n",
            "364/364 [==============================] - 2s 4ms/step - loss: 0.0064 - accuracy: 0.9924 - val_loss: 0.0087 - val_accuracy: 0.9897\n",
            "Epoch 54/300\n",
            "364/364 [==============================] - 2s 5ms/step - loss: 0.0065 - accuracy: 0.9926 - val_loss: 0.0084 - val_accuracy: 0.9904\n",
            "Epoch 55/300\n",
            "364/364 [==============================] - 2s 5ms/step - loss: 0.0063 - accuracy: 0.9924 - val_loss: 0.0086 - val_accuracy: 0.9900\n",
            "Epoch 56/300\n",
            "364/364 [==============================] - 2s 4ms/step - loss: 0.0062 - accuracy: 0.9924 - val_loss: 0.0087 - val_accuracy: 0.9897\n",
            "Epoch 57/300\n",
            "364/364 [==============================] - 2s 5ms/step - loss: 0.0067 - accuracy: 0.9918 - val_loss: 0.0086 - val_accuracy: 0.9904\n",
            "Epoch 58/300\n",
            "364/364 [==============================] - 2s 5ms/step - loss: 0.0067 - accuracy: 0.9924 - val_loss: 0.0084 - val_accuracy: 0.9907\n",
            "Epoch 59/300\n",
            "364/364 [==============================] - 2s 5ms/step - loss: 0.0071 - accuracy: 0.9918 - val_loss: 0.0086 - val_accuracy: 0.9897\n",
            "Epoch 60/300\n",
            "364/364 [==============================] - 2s 5ms/step - loss: 0.0063 - accuracy: 0.9930 - val_loss: 0.0091 - val_accuracy: 0.9887\n",
            "Epoch 61/300\n",
            "364/364 [==============================] - 2s 5ms/step - loss: 0.0068 - accuracy: 0.9912 - val_loss: 0.0082 - val_accuracy: 0.9907\n",
            "Epoch 62/300\n",
            "364/364 [==============================] - 2s 5ms/step - loss: 0.0062 - accuracy: 0.9928 - val_loss: 0.0084 - val_accuracy: 0.9893\n",
            "Epoch 63/300\n",
            "364/364 [==============================] - 2s 5ms/step - loss: 0.0056 - accuracy: 0.9938 - val_loss: 0.0096 - val_accuracy: 0.9897\n",
            "Epoch 64/300\n",
            "364/364 [==============================] - 2s 5ms/step - loss: 0.0058 - accuracy: 0.9936 - val_loss: 0.0090 - val_accuracy: 0.9893\n",
            "Epoch 65/300\n",
            "364/364 [==============================] - 2s 5ms/step - loss: 0.0063 - accuracy: 0.9928 - val_loss: 0.0085 - val_accuracy: 0.9900\n",
            "Epoch 66/300\n",
            "364/364 [==============================] - 2s 5ms/step - loss: 0.0059 - accuracy: 0.9930 - val_loss: 0.0087 - val_accuracy: 0.9900\n",
            "Epoch 67/300\n",
            "364/364 [==============================] - 2s 5ms/step - loss: 0.0064 - accuracy: 0.9923 - val_loss: 0.0089 - val_accuracy: 0.9893\n",
            "Epoch 68/300\n",
            "364/364 [==============================] - 2s 5ms/step - loss: 0.0059 - accuracy: 0.9933 - val_loss: 0.0096 - val_accuracy: 0.9893\n",
            "Epoch 69/300\n",
            "364/364 [==============================] - 2s 5ms/step - loss: 0.0061 - accuracy: 0.9927 - val_loss: 0.0088 - val_accuracy: 0.9911\n",
            "Epoch 70/300\n",
            "364/364 [==============================] - 2s 5ms/step - loss: 0.0061 - accuracy: 0.9930 - val_loss: 0.0090 - val_accuracy: 0.9897\n",
            "Epoch 71/300\n",
            "364/364 [==============================] - 2s 5ms/step - loss: 0.0063 - accuracy: 0.9927 - val_loss: 0.0085 - val_accuracy: 0.9897\n",
            "Epoch 72/300\n",
            "364/364 [==============================] - 2s 5ms/step - loss: 0.0061 - accuracy: 0.9928 - val_loss: 0.0088 - val_accuracy: 0.9900\n",
            "Epoch 73/300\n",
            "364/364 [==============================] - 2s 5ms/step - loss: 0.0057 - accuracy: 0.9937 - val_loss: 0.0088 - val_accuracy: 0.9897\n",
            "Epoch 74/300\n",
            "364/364 [==============================] - 2s 5ms/step - loss: 0.0064 - accuracy: 0.9923 - val_loss: 0.0084 - val_accuracy: 0.9900\n",
            "Epoch 75/300\n",
            "364/364 [==============================] - 2s 5ms/step - loss: 0.0063 - accuracy: 0.9929 - val_loss: 0.0079 - val_accuracy: 0.9907\n",
            "Epoch 76/300\n",
            "364/364 [==============================] - 2s 5ms/step - loss: 0.0058 - accuracy: 0.9933 - val_loss: 0.0089 - val_accuracy: 0.9900\n",
            "Epoch 77/300\n",
            "364/364 [==============================] - 2s 5ms/step - loss: 0.0057 - accuracy: 0.9930 - val_loss: 0.0085 - val_accuracy: 0.9900\n",
            "Epoch 78/300\n",
            "364/364 [==============================] - 2s 5ms/step - loss: 0.0058 - accuracy: 0.9934 - val_loss: 0.0087 - val_accuracy: 0.9893\n",
            "Epoch 79/300\n",
            "364/364 [==============================] - 2s 5ms/step - loss: 0.0057 - accuracy: 0.9933 - val_loss: 0.0081 - val_accuracy: 0.9911\n",
            "Epoch 80/300\n",
            "364/364 [==============================] - 2s 5ms/step - loss: 0.0058 - accuracy: 0.9935 - val_loss: 0.0082 - val_accuracy: 0.9911\n",
            "Epoch 81/300\n",
            "364/364 [==============================] - 2s 5ms/step - loss: 0.0061 - accuracy: 0.9927 - val_loss: 0.0086 - val_accuracy: 0.9907\n",
            "Epoch 82/300\n",
            "364/364 [==============================] - 2s 5ms/step - loss: 0.0059 - accuracy: 0.9928 - val_loss: 0.0087 - val_accuracy: 0.9900\n",
            "Epoch 83/300\n",
            "364/364 [==============================] - 2s 5ms/step - loss: 0.0054 - accuracy: 0.9937 - val_loss: 0.0085 - val_accuracy: 0.9904\n",
            "Epoch 84/300\n",
            "364/364 [==============================] - 2s 5ms/step - loss: 0.0056 - accuracy: 0.9936 - val_loss: 0.0096 - val_accuracy: 0.9887\n",
            "Epoch 85/300\n",
            "364/364 [==============================] - 2s 5ms/step - loss: 0.0059 - accuracy: 0.9930 - val_loss: 0.0086 - val_accuracy: 0.9893\n",
            "Epoch 86/300\n",
            "364/364 [==============================] - 2s 5ms/step - loss: 0.0052 - accuracy: 0.9942 - val_loss: 0.0088 - val_accuracy: 0.9904\n",
            "Epoch 87/300\n",
            "364/364 [==============================] - 2s 5ms/step - loss: 0.0055 - accuracy: 0.9936 - val_loss: 0.0091 - val_accuracy: 0.9897\n",
            "Epoch 88/300\n",
            "364/364 [==============================] - 2s 5ms/step - loss: 0.0053 - accuracy: 0.9938 - val_loss: 0.0086 - val_accuracy: 0.9900\n",
            "Epoch 89/300\n",
            "364/364 [==============================] - 2s 4ms/step - loss: 0.0061 - accuracy: 0.9924 - val_loss: 0.0093 - val_accuracy: 0.9893\n",
            "Epoch 90/300\n",
            "364/364 [==============================] - 2s 4ms/step - loss: 0.0053 - accuracy: 0.9941 - val_loss: 0.0089 - val_accuracy: 0.9900\n",
            "Epoch 91/300\n",
            "364/364 [==============================] - 2s 4ms/step - loss: 0.0050 - accuracy: 0.9941 - val_loss: 0.0103 - val_accuracy: 0.9876\n",
            "Epoch 92/300\n",
            "364/364 [==============================] - 2s 4ms/step - loss: 0.0056 - accuracy: 0.9933 - val_loss: 0.0103 - val_accuracy: 0.9880\n",
            "Epoch 93/300\n",
            "364/364 [==============================] - 2s 4ms/step - loss: 0.0051 - accuracy: 0.9942 - val_loss: 0.0088 - val_accuracy: 0.9897\n",
            "Epoch 94/300\n",
            "364/364 [==============================] - 2s 4ms/step - loss: 0.0050 - accuracy: 0.9942 - val_loss: 0.0091 - val_accuracy: 0.9897\n",
            "Epoch 95/300\n",
            "364/364 [==============================] - 2s 4ms/step - loss: 0.0049 - accuracy: 0.9945 - val_loss: 0.0087 - val_accuracy: 0.9900\n",
            "Epoch 96/300\n",
            "364/364 [==============================] - 2s 4ms/step - loss: 0.0051 - accuracy: 0.9936 - val_loss: 0.0115 - val_accuracy: 0.9869\n",
            "Epoch 97/300\n",
            "364/364 [==============================] - 2s 4ms/step - loss: 0.0055 - accuracy: 0.9934 - val_loss: 0.0084 - val_accuracy: 0.9907\n",
            "Epoch 98/300\n",
            "364/364 [==============================] - 2s 4ms/step - loss: 0.0057 - accuracy: 0.9931 - val_loss: 0.0089 - val_accuracy: 0.9880\n",
            "Epoch 99/300\n",
            "364/364 [==============================] - 2s 5ms/step - loss: 0.0052 - accuracy: 0.9938 - val_loss: 0.0092 - val_accuracy: 0.9890\n",
            "Epoch 100/300\n",
            "364/364 [==============================] - 2s 4ms/step - loss: 0.0047 - accuracy: 0.9946 - val_loss: 0.0103 - val_accuracy: 0.9883\n",
            "Epoch 101/300\n",
            "364/364 [==============================] - 2s 4ms/step - loss: 0.0058 - accuracy: 0.9930 - val_loss: 0.0086 - val_accuracy: 0.9900\n",
            "Epoch 102/300\n",
            "364/364 [==============================] - 2s 4ms/step - loss: 0.0050 - accuracy: 0.9942 - val_loss: 0.0097 - val_accuracy: 0.9893\n",
            "Epoch 103/300\n",
            "364/364 [==============================] - 2s 4ms/step - loss: 0.0046 - accuracy: 0.9948 - val_loss: 0.0088 - val_accuracy: 0.9897\n",
            "Epoch 104/300\n",
            "364/364 [==============================] - 2s 5ms/step - loss: 0.0060 - accuracy: 0.9928 - val_loss: 0.0104 - val_accuracy: 0.9887\n",
            "Epoch 105/300\n",
            "364/364 [==============================] - 2s 4ms/step - loss: 0.0049 - accuracy: 0.9942 - val_loss: 0.0094 - val_accuracy: 0.9900\n",
            "Epoch 106/300\n",
            "364/364 [==============================] - 2s 4ms/step - loss: 0.0048 - accuracy: 0.9945 - val_loss: 0.0098 - val_accuracy: 0.9890\n",
            "Epoch 107/300\n",
            "364/364 [==============================] - 2s 4ms/step - loss: 0.0048 - accuracy: 0.9944 - val_loss: 0.0092 - val_accuracy: 0.9893\n",
            "Epoch 108/300\n",
            "364/364 [==============================] - 2s 4ms/step - loss: 0.0047 - accuracy: 0.9942 - val_loss: 0.0096 - val_accuracy: 0.9887\n",
            "Epoch 109/300\n",
            "364/364 [==============================] - 2s 4ms/step - loss: 0.0047 - accuracy: 0.9943 - val_loss: 0.0107 - val_accuracy: 0.9873\n",
            "Epoch 110/300\n",
            "364/364 [==============================] - 2s 4ms/step - loss: 0.0050 - accuracy: 0.9945 - val_loss: 0.0091 - val_accuracy: 0.9887\n",
            "Epoch 111/300\n",
            "364/364 [==============================] - 2s 4ms/step - loss: 0.0047 - accuracy: 0.9946 - val_loss: 0.0094 - val_accuracy: 0.9893\n",
            "Epoch 112/300\n",
            "364/364 [==============================] - 2s 4ms/step - loss: 0.0053 - accuracy: 0.9936 - val_loss: 0.0090 - val_accuracy: 0.9900\n",
            "Epoch 113/300\n",
            "364/364 [==============================] - 2s 5ms/step - loss: 0.0053 - accuracy: 0.9935 - val_loss: 0.0101 - val_accuracy: 0.9890\n",
            "Epoch 114/300\n",
            "364/364 [==============================] - 2s 4ms/step - loss: 0.0052 - accuracy: 0.9938 - val_loss: 0.0102 - val_accuracy: 0.9883\n",
            "Epoch 115/300\n",
            "364/364 [==============================] - 2s 4ms/step - loss: 0.0047 - accuracy: 0.9943 - val_loss: 0.0096 - val_accuracy: 0.9890\n",
            "Epoch 116/300\n",
            "364/364 [==============================] - 2s 4ms/step - loss: 0.0046 - accuracy: 0.9947 - val_loss: 0.0118 - val_accuracy: 0.9869\n",
            "Epoch 117/300\n",
            "364/364 [==============================] - 2s 5ms/step - loss: 0.0049 - accuracy: 0.9944 - val_loss: 0.0119 - val_accuracy: 0.9859\n",
            "Epoch 118/300\n",
            "364/364 [==============================] - 2s 4ms/step - loss: 0.0053 - accuracy: 0.9939 - val_loss: 0.0096 - val_accuracy: 0.9883\n",
            "Epoch 119/300\n",
            "364/364 [==============================] - 2s 4ms/step - loss: 0.0050 - accuracy: 0.9940 - val_loss: 0.0100 - val_accuracy: 0.9883\n",
            "Epoch 120/300\n",
            "364/364 [==============================] - 2s 5ms/step - loss: 0.0047 - accuracy: 0.9948 - val_loss: 0.0095 - val_accuracy: 0.9897\n",
            "Epoch 121/300\n",
            "364/364 [==============================] - 2s 4ms/step - loss: 0.0046 - accuracy: 0.9947 - val_loss: 0.0101 - val_accuracy: 0.9887\n",
            "Epoch 122/300\n",
            "364/364 [==============================] - 2s 4ms/step - loss: 0.0044 - accuracy: 0.9950 - val_loss: 0.0100 - val_accuracy: 0.9893\n",
            "Epoch 123/300\n",
            "364/364 [==============================] - 2s 4ms/step - loss: 0.0045 - accuracy: 0.9945 - val_loss: 0.0109 - val_accuracy: 0.9876\n",
            "Epoch 124/300\n",
            "364/364 [==============================] - 2s 4ms/step - loss: 0.0049 - accuracy: 0.9943 - val_loss: 0.0105 - val_accuracy: 0.9880\n",
            "Epoch 125/300\n",
            "364/364 [==============================] - 2s 4ms/step - loss: 0.0045 - accuracy: 0.9946 - val_loss: 0.0084 - val_accuracy: 0.9914\n",
            "Epoch 126/300\n",
            "364/364 [==============================] - 2s 4ms/step - loss: 0.0052 - accuracy: 0.9939 - val_loss: 0.0091 - val_accuracy: 0.9904\n",
            "Epoch 127/300\n",
            "364/364 [==============================] - 2s 4ms/step - loss: 0.0049 - accuracy: 0.9945 - val_loss: 0.0095 - val_accuracy: 0.9897\n",
            "Epoch 128/300\n",
            "364/364 [==============================] - 2s 4ms/step - loss: 0.0043 - accuracy: 0.9952 - val_loss: 0.0091 - val_accuracy: 0.9900\n",
            "Epoch 129/300\n",
            "364/364 [==============================] - 2s 4ms/step - loss: 0.0046 - accuracy: 0.9945 - val_loss: 0.0130 - val_accuracy: 0.9849\n",
            "Epoch 130/300\n",
            "364/364 [==============================] - 2s 4ms/step - loss: 0.0054 - accuracy: 0.9940 - val_loss: 0.0100 - val_accuracy: 0.9893\n",
            "Epoch 131/300\n",
            "364/364 [==============================] - 2s 4ms/step - loss: 0.0045 - accuracy: 0.9948 - val_loss: 0.0099 - val_accuracy: 0.9880\n",
            "Epoch 132/300\n",
            "364/364 [==============================] - 2s 4ms/step - loss: 0.0046 - accuracy: 0.9946 - val_loss: 0.0091 - val_accuracy: 0.9897\n",
            "Epoch 133/300\n",
            "364/364 [==============================] - 2s 4ms/step - loss: 0.0043 - accuracy: 0.9947 - val_loss: 0.0096 - val_accuracy: 0.9890\n",
            "Epoch 134/300\n",
            "364/364 [==============================] - 2s 4ms/step - loss: 0.0043 - accuracy: 0.9949 - val_loss: 0.0099 - val_accuracy: 0.9897\n",
            "Epoch 135/300\n",
            "364/364 [==============================] - 2s 4ms/step - loss: 0.0043 - accuracy: 0.9947 - val_loss: 0.0105 - val_accuracy: 0.9883\n",
            "Epoch 136/300\n",
            "364/364 [==============================] - 2s 5ms/step - loss: 0.0041 - accuracy: 0.9952 - val_loss: 0.0109 - val_accuracy: 0.9887\n",
            "Epoch 137/300\n",
            "364/364 [==============================] - 2s 4ms/step - loss: 0.0048 - accuracy: 0.9944 - val_loss: 0.0107 - val_accuracy: 0.9876\n",
            "Epoch 138/300\n",
            "364/364 [==============================] - 2s 4ms/step - loss: 0.0043 - accuracy: 0.9948 - val_loss: 0.0107 - val_accuracy: 0.9883\n",
            "Epoch 139/300\n",
            "364/364 [==============================] - 2s 4ms/step - loss: 0.0046 - accuracy: 0.9948 - val_loss: 0.0093 - val_accuracy: 0.9893\n",
            "Epoch 140/300\n",
            "364/364 [==============================] - 2s 4ms/step - loss: 0.0052 - accuracy: 0.9935 - val_loss: 0.0106 - val_accuracy: 0.9880\n",
            "Epoch 141/300\n",
            "364/364 [==============================] - 2s 4ms/step - loss: 0.0044 - accuracy: 0.9948 - val_loss: 0.0101 - val_accuracy: 0.9883\n",
            "Epoch 142/300\n",
            "364/364 [==============================] - 2s 4ms/step - loss: 0.0042 - accuracy: 0.9952 - val_loss: 0.0106 - val_accuracy: 0.9890\n",
            "Epoch 143/300\n",
            "364/364 [==============================] - 2s 4ms/step - loss: 0.0048 - accuracy: 0.9946 - val_loss: 0.0105 - val_accuracy: 0.9883\n",
            "Epoch 144/300\n",
            "364/364 [==============================] - 2s 4ms/step - loss: 0.0047 - accuracy: 0.9945 - val_loss: 0.0112 - val_accuracy: 0.9880\n",
            "Epoch 145/300\n",
            "364/364 [==============================] - 2s 4ms/step - loss: 0.0049 - accuracy: 0.9939 - val_loss: 0.0096 - val_accuracy: 0.9887\n",
            "Epoch 146/300\n",
            "364/364 [==============================] - 2s 4ms/step - loss: 0.0046 - accuracy: 0.9947 - val_loss: 0.0105 - val_accuracy: 0.9883\n",
            "Epoch 147/300\n",
            "364/364 [==============================] - 2s 5ms/step - loss: 0.0045 - accuracy: 0.9946 - val_loss: 0.0102 - val_accuracy: 0.9890\n",
            "Epoch 148/300\n",
            "364/364 [==============================] - 2s 4ms/step - loss: 0.0045 - accuracy: 0.9945 - val_loss: 0.0101 - val_accuracy: 0.9893\n",
            "Epoch 149/300\n",
            "364/364 [==============================] - 2s 4ms/step - loss: 0.0043 - accuracy: 0.9950 - val_loss: 0.0110 - val_accuracy: 0.9883\n",
            "Epoch 150/300\n",
            "364/364 [==============================] - 2s 4ms/step - loss: 0.0047 - accuracy: 0.9943 - val_loss: 0.0101 - val_accuracy: 0.9887\n",
            "Epoch 151/300\n",
            "364/364 [==============================] - 2s 4ms/step - loss: 0.0048 - accuracy: 0.9942 - val_loss: 0.0095 - val_accuracy: 0.9900\n",
            "Epoch 152/300\n",
            "364/364 [==============================] - 2s 5ms/step - loss: 0.0047 - accuracy: 0.9943 - val_loss: 0.0091 - val_accuracy: 0.9893\n",
            "Epoch 153/300\n",
            "364/364 [==============================] - 2s 5ms/step - loss: 0.0044 - accuracy: 0.9948 - val_loss: 0.0091 - val_accuracy: 0.9900\n",
            "Epoch 154/300\n",
            "364/364 [==============================] - 2s 4ms/step - loss: 0.0049 - accuracy: 0.9940 - val_loss: 0.0111 - val_accuracy: 0.9873\n",
            "Epoch 155/300\n",
            "364/364 [==============================] - 2s 4ms/step - loss: 0.0042 - accuracy: 0.9948 - val_loss: 0.0102 - val_accuracy: 0.9897\n",
            "Epoch 156/300\n",
            "364/364 [==============================] - 2s 4ms/step - loss: 0.0045 - accuracy: 0.9943 - val_loss: 0.0099 - val_accuracy: 0.9893\n",
            "Epoch 157/300\n",
            "364/364 [==============================] - 2s 4ms/step - loss: 0.0046 - accuracy: 0.9944 - val_loss: 0.0109 - val_accuracy: 0.9880\n",
            "Epoch 158/300\n",
            "364/364 [==============================] - 2s 5ms/step - loss: 0.0039 - accuracy: 0.9952 - val_loss: 0.0109 - val_accuracy: 0.9883\n"
          ]
        }
      ]
    },
    {
      "cell_type": "code",
      "source": [
        "pd.DataFrame(history.history).plot(figsize=(5,5))\n",
        "plt.grid(True)\n",
        "plt.gca().set_ylim(0,1) #Sets the vertical range\n",
        "plt.show()"
      ],
      "metadata": {
        "colab": {
          "base_uri": "https://localhost:8080/",
          "height": 324
        },
        "id": "3x_BXikJnq4O",
        "outputId": "a2412beb-a47a-44ed-e963-bed2efddbfde"
      },
      "execution_count": 22,
      "outputs": [
        {
          "output_type": "display_data",
          "data": {
            "text/plain": [
              "<Figure size 360x360 with 1 Axes>"
            ],
            "image/png": "[encoded data removed]"
          },
          "metadata": {
            "needs_background": "light"
          }
        }
      ]
    },
    {
      "cell_type": "code",
      "source": [
        "ann_score = model.evaluate(X_test, y_test, verbose=1)\n",
        "print('accuracy: ', ann_score[1]) #Accuracy"
      ],
      "metadata": {
        "colab": {
          "base_uri": "https://localhost:8080/"
        },
        "id": "l_6b5vLHnuyT",
        "outputId": "a8fb3d31-afa6-4590-bc8c-2938391d0708"
      },
      "execution_count": 23,
      "outputs": [
        {
          "output_type": "stream",
          "name": "stdout",
          "text": [
            "114/114 [==============================] - 1s 5ms/step - loss: 0.0131 - accuracy: 0.9860\n",
            "accuracy:  0.9859774708747864\n"
          ]
        }
      ]
    },
    {
      "cell_type": "code",
      "source": [
        "y_pred_ANN = model.predict(X_test)\n",
        "y_pred_ANN = y_pred_ANN > 0.5"
      ],
      "metadata": {
        "colab": {
          "base_uri": "https://localhost:8080/"
        },
        "id": "7QGgpUtzhhRv",
        "outputId": "e078fad2-5f5b-4164-bfa9-42194bbd72c1"
      },
      "execution_count": 35,
      "outputs": [
        {
          "output_type": "stream",
          "name": "stdout",
          "text": [
            "114/114 [==============================] - 0s 2ms/step\n"
          ]
        }
      ]
    },
    {
      "cell_type": "markdown",
      "source": [
        "##Pretty Table"
      ],
      "metadata": {
        "id": "qQpQhbroBZ9_"
      }
    },
    {
      "cell_type": "code",
      "source": [
        "myTable = PrettyTable(['Model', 'Best Score'])\n",
        "\n",
        "myTable.add_row(['Logistic Regression', LR_score])\n",
        "myTable.add_row(['Random Forest Classifer', RF_score])\n",
        "myTable.add_row(['Decision Tree Classifier', DTC_score])\n",
        "myTable.add_row(['Support Vector Classifer', SVC_score])\n",
        "myTable.add_row(['Artifical Neural Network', ann_score[1]])\n",
        "\n",
        "print(myTable)"
      ],
      "metadata": {
        "id": "i0LqLoBhBa_T",
        "colab": {
          "base_uri": "https://localhost:8080/"
        },
        "outputId": "5824f0b8-ab4e-4aef-e94d-7826e1725181"
      },
      "execution_count": 36,
      "outputs": [
        {
          "output_type": "stream",
          "name": "stdout",
          "text": [
            "+--------------------------+--------------------+\n",
            "|          Model           |     Best Score     |\n",
            "+--------------------------+--------------------+\n",
            "|   Logistic Regression    | 0.9881770690129228 |\n",
            "| Random Forest Classifer  | 0.9879021171295024 |\n",
            "| Decision Tree Classifier | 0.9857025020621392 |\n",
            "| Support Vector Classifer | 0.9879021171295024 |\n",
            "| Artifical Neural Network | 0.9859774708747864 |\n",
            "+--------------------------+--------------------+\n"
          ]
        }
      ]
    },
    {
      "cell_type": "markdown",
      "source": [
        "##Confusion Matrix and Classification Report"
      ],
      "metadata": {
        "id": "OXN4aPyMI_N8"
      }
    },
    {
      "cell_type": "markdown",
      "source": [
        "###Logistic Regression"
      ],
      "metadata": {
        "id": "bF9_ylt-JUqJ"
      }
    },
    {
      "cell_type": "code",
      "source": [
        "confusion_matrix(y_test, y_pred_LR)"
      ],
      "metadata": {
        "colab": {
          "base_uri": "https://localhost:8080/"
        },
        "id": "hxktcYMGJBlR",
        "outputId": "b9ee7bb9-6bec-44a5-b732-848ee6a02dbf"
      },
      "execution_count": 26,
      "outputs": [
        {
          "output_type": "execute_result",
          "data": {
            "text/plain": [
              "array([[1631,   22],\n",
              "       [  21, 1963]])"
            ]
          },
          "metadata": {},
          "execution_count": 26
        }
      ]
    },
    {
      "cell_type": "code",
      "source": [
        "print(classification_report(y_test, y_pred_LR))"
      ],
      "metadata": {
        "colab": {
          "base_uri": "https://localhost:8080/"
        },
        "id": "yH2xt1nWKGAb",
        "outputId": "b4afc8e1-8988-47d2-8ab4-a7f56bb8063b"
      },
      "execution_count": 27,
      "outputs": [
        {
          "output_type": "stream",
          "name": "stdout",
          "text": [
            "              precision    recall  f1-score   support\n",
            "\n",
            "           0       0.99      0.99      0.99      1653\n",
            "           1       0.99      0.99      0.99      1984\n",
            "\n",
            "    accuracy                           0.99      3637\n",
            "   macro avg       0.99      0.99      0.99      3637\n",
            "weighted avg       0.99      0.99      0.99      3637\n",
            "\n"
          ]
        }
      ]
    },
    {
      "cell_type": "markdown",
      "source": [
        "###Random Forest Classifier"
      ],
      "metadata": {
        "id": "5b_iyJqxJXkv"
      }
    },
    {
      "cell_type": "code",
      "source": [
        "confusion_matrix(y_test, y_pred_RF)"
      ],
      "metadata": {
        "colab": {
          "base_uri": "https://localhost:8080/"
        },
        "id": "Be6VckShJaco",
        "outputId": "e8ee8423-f15e-4c96-fbc1-1b33d562221e"
      },
      "execution_count": 28,
      "outputs": [
        {
          "output_type": "execute_result",
          "data": {
            "text/plain": [
              "array([[1630,   23],\n",
              "       [  21, 1963]])"
            ]
          },
          "metadata": {},
          "execution_count": 28
        }
      ]
    },
    {
      "cell_type": "code",
      "source": [
        "print(classification_report(y_test, y_pred_RF))"
      ],
      "metadata": {
        "colab": {
          "base_uri": "https://localhost:8080/"
        },
        "id": "VuqDwzEnKMoi",
        "outputId": "6ad91ac1-0b58-4cb5-d03b-6db1c3cc5f27"
      },
      "execution_count": 29,
      "outputs": [
        {
          "output_type": "stream",
          "name": "stdout",
          "text": [
            "              precision    recall  f1-score   support\n",
            "\n",
            "           0       0.99      0.99      0.99      1653\n",
            "           1       0.99      0.99      0.99      1984\n",
            "\n",
            "    accuracy                           0.99      3637\n",
            "   macro avg       0.99      0.99      0.99      3637\n",
            "weighted avg       0.99      0.99      0.99      3637\n",
            "\n"
          ]
        }
      ]
    },
    {
      "cell_type": "markdown",
      "source": [
        "##Decision Tree Classifier"
      ],
      "metadata": {
        "id": "iUm6MvoT6ydr"
      }
    },
    {
      "cell_type": "code",
      "source": [
        "confusion_matrix(y_test, y_pred_tree)"
      ],
      "metadata": {
        "colab": {
          "base_uri": "https://localhost:8080/"
        },
        "id": "NWRnU-vj60gn",
        "outputId": "3e7fbcf6-90c8-4d4d-a9da-c5e7fcd8e180"
      },
      "execution_count": 30,
      "outputs": [
        {
          "output_type": "execute_result",
          "data": {
            "text/plain": [
              "array([[1622,   31],\n",
              "       [  21, 1963]])"
            ]
          },
          "metadata": {},
          "execution_count": 30
        }
      ]
    },
    {
      "cell_type": "code",
      "source": [
        "print(classification_report(y_test, y_pred_tree))"
      ],
      "metadata": {
        "colab": {
          "base_uri": "https://localhost:8080/"
        },
        "id": "9neOmx9_64m4",
        "outputId": "e0a9c029-b927-499d-d297-1ca4d350d458"
      },
      "execution_count": 31,
      "outputs": [
        {
          "output_type": "stream",
          "name": "stdout",
          "text": [
            "              precision    recall  f1-score   support\n",
            "\n",
            "           0       0.99      0.98      0.98      1653\n",
            "           1       0.98      0.99      0.99      1984\n",
            "\n",
            "    accuracy                           0.99      3637\n",
            "   macro avg       0.99      0.99      0.99      3637\n",
            "weighted avg       0.99      0.99      0.99      3637\n",
            "\n"
          ]
        }
      ]
    },
    {
      "cell_type": "markdown",
      "source": [
        "###Support Vector Classifier"
      ],
      "metadata": {
        "id": "EOov-ciZJcWr"
      }
    },
    {
      "cell_type": "code",
      "source": [
        "confusion_matrix(y_test, y_pred_svc)"
      ],
      "metadata": {
        "colab": {
          "base_uri": "https://localhost:8080/"
        },
        "id": "hj0GJM-SJe23",
        "outputId": "913da13b-7422-42cb-8dbd-d57804ad0262"
      },
      "execution_count": 32,
      "outputs": [
        {
          "output_type": "execute_result",
          "data": {
            "text/plain": [
              "array([[1629,   24],\n",
              "       [  20, 1964]])"
            ]
          },
          "metadata": {},
          "execution_count": 32
        }
      ]
    },
    {
      "cell_type": "code",
      "source": [
        "print(classification_report(y_test, y_pred_svc))"
      ],
      "metadata": {
        "colab": {
          "base_uri": "https://localhost:8080/"
        },
        "id": "-P27K9A3Ku1Q",
        "outputId": "f76fcab6-0bb6-4d5f-ddae-f06c64ca8b7e"
      },
      "execution_count": 33,
      "outputs": [
        {
          "output_type": "stream",
          "name": "stdout",
          "text": [
            "              precision    recall  f1-score   support\n",
            "\n",
            "           0       0.99      0.99      0.99      1653\n",
            "           1       0.99      0.99      0.99      1984\n",
            "\n",
            "    accuracy                           0.99      3637\n",
            "   macro avg       0.99      0.99      0.99      3637\n",
            "weighted avg       0.99      0.99      0.99      3637\n",
            "\n"
          ]
        }
      ]
    },
    {
      "cell_type": "markdown",
      "source": [
        "##Artificial Neural Network"
      ],
      "metadata": {
        "id": "_SoZ4EonlHMA"
      }
    },
    {
      "cell_type": "code",
      "source": [
        "confusion_matrix(y_test, y_pred_ANN)"
      ],
      "metadata": {
        "colab": {
          "base_uri": "https://localhost:8080/"
        },
        "id": "O53b-26nlJcM",
        "outputId": "e3670b00-af75-4b8f-821c-960a63c591cc"
      },
      "execution_count": 37,
      "outputs": [
        {
          "output_type": "execute_result",
          "data": {
            "text/plain": [
              "array([[1629,   24],\n",
              "       [  27, 1957]])"
            ]
          },
          "metadata": {},
          "execution_count": 37
        }
      ]
    },
    {
      "cell_type": "code",
      "source": [
        "print(classification_report(y_test, y_pred_ANN))"
      ],
      "metadata": {
        "colab": {
          "base_uri": "https://localhost:8080/"
        },
        "id": "pSfNX8ZBlMwv",
        "outputId": "c548167f-1456-4d54-be77-638106d3809e"
      },
      "execution_count": 38,
      "outputs": [
        {
          "output_type": "stream",
          "name": "stdout",
          "text": [
            "              precision    recall  f1-score   support\n",
            "\n",
            "           0       0.98      0.99      0.98      1653\n",
            "           1       0.99      0.99      0.99      1984\n",
            "\n",
            "    accuracy                           0.99      3637\n",
            "   macro avg       0.99      0.99      0.99      3637\n",
            "weighted avg       0.99      0.99      0.99      3637\n",
            "\n"
          ]
        }
      ]
    }
  ]
}